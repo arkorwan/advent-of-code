{
 "cells": [
  {
   "cell_type": "markdown",
   "id": "0e84f5f0",
   "metadata": {},
   "source": [
    "# Day 3\n",
    "\n",
    "link: https://adventofcode.com/2022/day/3"
   ]
  },
  {
   "cell_type": "markdown",
   "id": "da1bdb4b",
   "metadata": {},
   "source": [
    "input ของข้อนี้แทน unique item ใน rucksack ด้วยตัวอักษร เราก็แปลงให้เป็น array ของเลข priority ซะ"
   ]
  },
  {
   "cell_type": "code",
   "execution_count": 1,
   "id": "566ebd1e",
   "metadata": {},
   "outputs": [],
   "source": [
    "input = IO.foreach('in03.txt').to_a.map(&:strip)\n",
    "\n",
    "rucksacks = input.map{|line|\n",
    "  line.chars.map(&:ord).map{|c| c >= 'a'.ord ? c - 'a'.ord + 1 : c - 'A'.ord + 27}\n",
    "}\n",
    "\n",
    "nil"
   ]
  },
  {
   "cell_type": "markdown",
   "id": "79478b0c",
   "metadata": {},
   "source": [
    "## Part 1\n",
    "\n",
    "ครึ่งแรกเราแบ่ง array ออกเป็นสองส่วนเท่าๆ กัน จับมา intersect กัน ก็ได้คำตอบเลย"
   ]
  },
  {
   "cell_type": "code",
   "execution_count": 2,
   "id": "8a9b5211",
   "metadata": {},
   "outputs": [
    {
     "name": "stdout",
     "output_type": "stream",
     "text": [
      "7878\n"
     ]
    }
   ],
   "source": [
    "puts rucksacks.map{|items|\n",
    "  l = items.size\n",
    "  (items[0...l/2] & items[l/2..-1]).sum\n",
    "}.sum"
   ]
  },
  {
   "cell_type": "markdown",
   "id": "c815eb02",
   "metadata": {},
   "source": [
    "## Part 2\n",
    "\n",
    "ครึ่งหลังเราอ่าน rucksack เข้ามาทีละ 3 อัน ด้วย `each_slice(3)` แล้วจับ intersect กันเหมือนเดิม ง่ายกว่าครึ่งแรกอีก  "
   ]
  },
  {
   "cell_type": "code",
   "execution_count": 3,
   "id": "d2460e4d",
   "metadata": {},
   "outputs": [
    {
     "name": "stdout",
     "output_type": "stream",
     "text": [
      "2760\n"
     ]
    }
   ],
   "source": [
    "puts rucksacks.each_slice(3).map{|x,y,z| (x & y & z).sum}.sum"
   ]
  }
 ],
 "metadata": {
  "kernelspec": {
   "display_name": "Ruby 3.1.3",
   "language": "ruby",
   "name": "ruby"
  },
  "language_info": {
   "file_extension": ".rb",
   "mimetype": "application/x-ruby",
   "name": "ruby",
   "version": "3.1.3"
  }
 },
 "nbformat": 4,
 "nbformat_minor": 5
}
