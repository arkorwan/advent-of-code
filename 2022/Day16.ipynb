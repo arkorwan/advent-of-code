{
 "cells": [
  {
   "cell_type": "markdown",
   "id": "3c18b95f",
   "metadata": {},
   "source": [
    "# Day 16\n",
    "\n",
    "link: https://adventofcode.com/2022/day/16"
   ]
  },
  {
   "cell_type": "markdown",
   "id": "4e01e2e7",
   "metadata": {},
   "source": [
    "ข้อนี้เป็นโจทย์กราฟ valve แต่ละอันก็คือ node ของกราฟ input ของเรามี 63 valves แต่พอดูดีๆ แล้วจะพบว่า\n",
    "valve จำนวนมากมี flow rate เป็น 0 และมีอุโมงค์เชื่อมกับ valve อื่นแค่ 2 อัน\n",
    "ดังนั้น valve เหล่านี้เป็นแค่ทางผ่าน ทำหน้าที่แค่เพิ่มระยะเวลาในการเดินทางระหว่าง valve ที่มี flow rate เป็นบวกเท่านั้น\n",
    "\n",
    "เราเริ่มจากอ่าน input แล้วเก็บเป็น hash ของ node ไว้ โดยที่แต่ละ node จะเก็บ cost ของการเดินทางไป node ที่อยู่ติดกัน เริ่มต้นเป็น 1 นาที\n",
    "จากนั้นเราจะเอา node ทางผ่านออก แล้วไปเพิ่ม cost ให้ node ข้างๆ แทน\n",
    "step นี้ลดจำนวน node ลงมาเหลือแค่ 16"
   ]
  },
  {
   "cell_type": "code",
   "execution_count": 1,
   "id": "24c85595",
   "metadata": {},
   "outputs": [],
   "source": [
    "input = IO.foreach('in16.txt').to_a.map(&:strip)\n",
    "\n",
    "valves = {}\n",
    "input.each{|line|\n",
    "  words = line.split(/\\,?[\\s;=]/)\n",
    "  valve_name = words[1]\n",
    "  flow = words[5].to_i\n",
    "  adjacents = words[11..-1].map{|n| [n, 1]}.to_h\n",
    "  valves[valve_name] = [flow, adjacents]\n",
    "}\n",
    "\n",
    "def collapse_tunnel(valves, v)\n",
    "  target_valve = valves[v]\n",
    "  adj1, adj2 = target_valve[1].keys\n",
    "  adj1_valve = valves[adj1]\n",
    "  adj2_valve = valves[adj2]\n",
    "  new_cost = adj1_valve[1][v] + target_valve[1][adj2]\n",
    "  \n",
    "  adj1_valve[1].delete(v)\n",
    "  adj1_valve[1][adj2] = new_cost\n",
    "  \n",
    "  adj2_valve[1].delete(v)\n",
    "  adj2_valve[1][adj1] = new_cost\n",
    "  \n",
    "  valves.delete(v)\n",
    "end\n",
    "\n",
    "valves.keys.to_a.each{|v|\n",
    "  flow, adjacents = valves[v]\n",
    "  collapse_tunnel(valves, v) if flow == 0 && adjacents.size == 2\n",
    "}\n",
    "\n",
    "nil"
   ]
  },
  {
   "cell_type": "markdown",
   "id": "664e89fc",
   "metadata": {},
   "source": [
    "## Part 1\n",
    "\n",
    "โจทย์บอกว่าเรามีเวลา 30 นาที ให้พยายามไปเปิด valve ให้ pressure ออกมามากที่สุด\n",
    "\n",
    "เราจะใช้วิธีค่อนข้าง brute force คือวนทุกลำดับของ valve ที่เป็นไปได้ แล้วดูว่าลำดับไหนได้ pressure เยอะที่สุด\n",
    "ลองประเมินคร่าวๆ เรามี valve อยู่ 15 อัน (ไม่รวมจุดเริ่มต้นที่ valve AA) ถ้าวนทุก order จะต้องลองทั้งหมด 15! ซึ่งเยอะไปมาก\n",
    "แต่เนื่องจากเวลามีจำกัดแค่ 30 นาที และเราต้องใช้เวลาอย่างน้อย 3 นาทีต่อ valve (เวลาเปิด 1 นาที. เวลาเดินทางอย่างน้อย 2 นาที)\n",
    "ดังนั้นเราเปิดได้มากที่สุดแค่ 10 valve เพราะฉะนั้นมีความเป็นไปได้อยู่ไม่เกิน 10! ~ 3M ซึ่งเล็กพอที่เราจะวนทุกรูปแบบได้\n",
    "\n",
    "ก่อนอื่นเราหา shortest path length ของทุกๆ คู่ของ valve โดยใช้ Floyd-Warshall\n",
    "จากนั้นก็ recursive backtrack เพื่อคำนวณ pressure โดยจะหยุดแต่ก tree แล้ว backtrack เมื่อ:\n",
    "1. หมดเวลา\n",
    "2. valve ถูกเปิดครบแล้ว (ไม่ได้ใช้ใน part นี้ แต่จะต้องใช้สำหรับโจทย์ตัวอย่าง และ part หน้า)\n",
    "\n",
    "ใน implementation จริงเราเพิ่ม memoization ซึ่งลดการคำนวณซ้ำซ้อนได้ไม่น้อย\n",
    "\n",
    "(โค้ดนี้ทำไว้สำหรับ part 2 ด้วย สำหรับครึ่งแรกนี้ เรามี agent แค่คนเดียว ดังนั้น `remain_agents` จะเป็น 1 ตลอด ซึ่งทำให้ `next_agent` เป็น 0 เสมอ)"
   ]
  },
  {
   "cell_type": "code",
   "execution_count": 2,
   "id": "f5218eba",
   "metadata": {},
   "outputs": [
    {
     "name": "stdout",
     "output_type": "stream",
     "text": [
      "1796\n"
     ]
    }
   ],
   "source": [
    "valve_names = valves.keys.to_a.sort\n",
    "valve_lookup = valve_names.each_with_index.to_h\n",
    "flow_rates = valve_names.map{|v| valves[v][0]}\n",
    "\n",
    "valve_count = valve_names.size\n",
    "\n",
    "inf = 10**10\n",
    "dist = valve_count.times.map{Array.new(valve_count, inf)}\n",
    "valve_names.each_with_index{|v, i|\n",
    "  dist[i][i] = 0\n",
    "  valves[v][1].each{|w, d|\n",
    "    dist[i][valve_lookup[w]] = d\n",
    "  }\n",
    "}\n",
    "valve_count.times{|k|\n",
    "  valve_count.times{|i|\n",
    "    valve_count.times{|j|\n",
    "      ikj = dist[i][k] + dist[k][j]\n",
    "      dist[i][j] = ikj if dist[i][j] > ikj \n",
    "    }\n",
    "  }\n",
    "}\n",
    "\n",
    "class Calculator\n",
    "\n",
    "  @@memo = {}\n",
    "\n",
    "  def initialize(flow_rates, dist, remain_minutes)\n",
    "    @flow_rates = flow_rates\n",
    "    @dist = dist\n",
    "    @remain_minutes = remain_minutes\n",
    "  end\n",
    "\n",
    "  def traverse(current_valve, remain_valves, remain_minutes, remain_agents)\n",
    "    return 0 if remain_agents == 0\n",
    "    return 0 if remain_valves.empty?\n",
    "    \n",
    "    memkey = [current_valve, remain_valves, remain_minutes, remain_agents]\n",
    "    return @@memo[memkey] if @@memo[memkey]\n",
    "\n",
    "    next_agent = traverse(0, remain_valves, @remain_minutes, remain_agents - 1)\n",
    "    this_agent = remain_valves.size.times.map{|i|\n",
    "      v = remain_valves[i]\n",
    "      new_remain_minutes = remain_minutes - 1 - @dist[current_valve][v]\n",
    "      if new_remain_minutes > 0\n",
    "        spent = new_remain_minutes * @flow_rates[v]\n",
    "        new_remain_valves = remain_valves.clone\n",
    "        new_remain_valves.delete_at(i)\n",
    "        traverse(\n",
    "          v, \n",
    "          new_remain_valves, \n",
    "          new_remain_minutes,\n",
    "          remain_agents\n",
    "        ) + spent\n",
    "      else\n",
    "        0\n",
    "      end\n",
    "    }.max\n",
    "    best = [next_agent, this_agent].max\n",
    "    @@memo[memkey] = best\n",
    "    best\n",
    "    \n",
    "  end\n",
    "\n",
    "  def best_pressure_relieved(agents)\n",
    "    traverse(0, (1...@flow_rates.size).to_a, @remain_minutes, agents)\n",
    "  end\n",
    "\n",
    "end\n",
    "\n",
    "calc1 = Calculator.new(flow_rates, dist, 30)\n",
    "puts calc1.best_pressure_relieved(1)"
   ]
  },
  {
   "cell_type": "markdown",
   "id": "2ca120a6",
   "metadata": {},
   "source": [
    "## Part 2\n",
    "\n",
    "โจทย์ครึ่งหลังลดเวลาลงเหลือ 26 นาที แต่เพิ่มจำนวน agent ที่ไปเปิด valve เป็น 2 คน เราเอา backtracking จากครึ่งแรกมาแก้เล็กน้อย\n",
    "(ซึ่งใน code ข้างบนก็คือรวมส่วนที่แก้ไปแล้ว) จุดสำคัญคือ agent ทั้ง 2 จะไม่เปิด valve ซ้ำกัน\n",
    "เราใช้วิธี backtrack เหมือนเดิมสำหรับ agent คนแรก แต่เราสามารถให้ agent คนแรกนี้หยุดทำงานได้ทุกเมื่อ แล้วส่งต่อ valve ที่เหลือให้ agent คนที่สอง ซึ่งจะกลับไปเริ่มต้นที่เวลา 26 นาที ทำ backtrack ต่อด้วย valve ที่เหลือ"
   ]
  },
  {
   "cell_type": "code",
   "execution_count": 3,
   "id": "fb7ec7a1",
   "metadata": {},
   "outputs": [
    {
     "name": "stdout",
     "output_type": "stream",
     "text": [
      "1999\n"
     ]
    }
   ],
   "source": [
    "calc2 = Calculator.new(flow_rates, dist, 26)\n",
    "puts calc2.best_pressure_relieved(2)"
   ]
  },
  {
   "cell_type": "markdown",
   "id": "6e043d6e",
   "metadata": {},
   "source": [
    "ที่จริงยังมีอีกท่านึงที่เราลอง คือเราใช้วิธีคิด pressure จากทุกๆ partition ของ valves ที่เป็นไปได้ (ซึ่งมีทั้งหมด 2^15/2 = 16K partitions) แล้วหาคู่ที่รวม pressure ได้สูงที่สุด แต่ลองแล้ววิธีนี้ใช้เวลาเยอะกว่า"
   ]
  }
 ],
 "metadata": {
  "kernelspec": {
   "display_name": "Ruby 3.1.3",
   "language": "ruby",
   "name": "ruby"
  },
  "language_info": {
   "file_extension": ".rb",
   "mimetype": "application/x-ruby",
   "name": "ruby",
   "version": "3.1.3"
  }
 },
 "nbformat": 4,
 "nbformat_minor": 5
}
