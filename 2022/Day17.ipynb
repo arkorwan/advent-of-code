{
 "cells": [
  {
   "cell_type": "markdown",
   "id": "206391da",
   "metadata": {},
   "source": [
    "# Day 17\n",
    "\n",
    "link: https://adventofcode.com/2022/day/17"
   ]
  },
  {
   "cell_type": "markdown",
   "id": "52dab18b",
   "metadata": {},
   "source": [
    "ข้อนี้เหมือนจำลองเกมแนว Tetris (แต่บาง piece มันมี 5 tiles จะเรียก tetris ก็เรียกได้ไม่เต็มปากเพราะตามชื่อแล้ว Tetris มันต้องมีชิ้นละ 4 tiles)\n",
    "\n",
    "เราจะ encode game state ด้วย integer list โดนแทนแต่ละ row ด้วยเลข 1 ตัว เราแทน empty cell ด้วย 0, occupied cell ด้วย 1\n",
    "\n",
    "เราใส่ 127 (1111111₂) ไว้เป็น row ล่างสุด (ก็คือ item แรกใน game state list) ทำหน้าที่เป็นพื้น เพื่อให้ง่ายตอนทำ collision check\n",
    "\n",
    "ส่วนหินทั้ง 5 รูปแบบ จะ encode ได้แบบนี้"
   ]
  },
  {
   "cell_type": "code",
   "execution_count": 1,
   "id": "bd6c5200",
   "metadata": {},
   "outputs": [],
   "source": [
    "rocks = [\n",
    "  [30],\n",
    "  [8, 28, 8],\n",
    "  [28, 4, 4],\n",
    "  [16, 16, 16, 16],\n",
    "  [24, 24]\n",
    "]\n",
    "nil"
   ]
  },
  {
   "cell_type": "markdown",
   "id": "658317a1",
   "metadata": {},
   "source": [
    "เราสร้าง method `simulate` เพื่อดูว่าหินจะตกไปที่ตำแหน่งไหน\n",
    "- `a` คือ game state\n",
    "- `rocks` คือหิน 5 รูปแบบตามข้างบน\n",
    "- `ri` คือ index ของหินที่จะโผล่มาในรอบนี้\n",
    "- `winds` คือทิศทางของลมทั้งหมด ซึ่งเรารับมาจาก input โดยตรง\n",
    "- `wi` คือ index ของลมเมื่อเริ่มรอบนี้\n",
    "\n",
    "แรกสุดเราเพิ่ม rows ว่างเข้าไปใน game state จำนวน 3 rows แล้วตั้ง row index ของหิน ไว้ที่ `fi`\n",
    "จากนั้นก็ simulate ตามการเคลื่อนไหวของลม โดยที่เราต้องทำ collision check ว่าหินสามารถขยับตามลมได้หรือไม่\n",
    "ถ้าได้ก็ขยับตำแหน่งแกน x ของหิน ซึ่งใน encoding ของเรา การขยับซ้ายก็คือคูณสอง ขยับขวาก็คือหารสอง\n",
    "ส่วน collision check ก็คือการทำ bitwise and ซึ่งถ้าไม่มีอะไรชนกัน มันจะออกมาเป็น 0\n",
    "\n",
    "จากนั้นเราทำ collision check อีกทีเพื่อดูว่าหินสามารถตกลงมาได้มั้ย ถ้าได้ก็ขยับ `fi` แล้ววนซ้ำใหม่ \n",
    "ถ้าไม่ได้ก็แสดงว่าเราได้ตำแหน่งสุดท้ายของหินแล้ว เราก็ merge หินลงไปใน game state โดยการทำ bitwise or แล้วก็ clear empty rows ออกจาก game state\n",
    "\n",
    "method นี้ return game state ที่อัพเดตแล้ว และ index ของลมในรอบถัดไป"
   ]
  },
  {
   "cell_type": "code",
   "execution_count": 2,
   "id": "37427211",
   "metadata": {},
   "outputs": [],
   "source": [
    "input = IO.read('in17.txt')\n",
    "\n",
    "def simulate(a, rocks, ri, winds, wi)\n",
    "  rock = rocks[ri]\n",
    "  fi = a.size + 3\n",
    "  a += [0] * (rock.size + 3)\n",
    "\n",
    "  loop {\n",
    "    if winds[wi] == '>'\n",
    "      rock = rock.map{|x| x >> 1} if rock.each_with_index.all?{|row, i| row[0] == 0 && (row >> 1) & a[fi + i] == 0}\n",
    "    else\n",
    "      rock = rock.map{|x| x << 1} if rock.each_with_index.all?{|row, i| row[6] == 0 && (row << 1) & a[fi + i] == 0}\n",
    "    end\n",
    "    wi = (wi+1) % winds.size\n",
    "\n",
    "    break if rock.each_with_index.any?{|row, i|\n",
    "      row & a[fi - 1 + i] > 0\n",
    "    }\n",
    "    fi -= 1\n",
    "  }\n",
    "\n",
    "  rock.size.times{|j| a[fi+j] |= rock[j] }\n",
    "  a.pop while a[-1] == 0\n",
    "  [a, wi]\n",
    "end\n",
    "nil"
   ]
  },
  {
   "cell_type": "markdown",
   "id": "4291dd76",
   "metadata": {},
   "source": [
    "## Part 1\n",
    "\n",
    "ใน part แรก เราแค่ simulate หิน 2022 ก้อน คำตอบก็คือจำนวน rows ใน game state (ไม่นับพื้นใน row ล่างสุด)"
   ]
  },
  {
   "cell_type": "code",
   "execution_count": 3,
   "id": "d63e7eed",
   "metadata": {},
   "outputs": [
    {
     "name": "stdout",
     "output_type": "stream",
     "text": [
      "3166\n"
     ]
    }
   ],
   "source": [
    "a = [127]\n",
    "ri = 0\n",
    "wi = 0\n",
    "\n",
    "2022.times{\n",
    "  a, wi = simulate(a, rocks, ri, input, wi)  \n",
    "  ri = (ri + 1) % 5\n",
    "}\n",
    "puts a.size - 1"
   ]
  },
  {
   "cell_type": "markdown",
   "id": "7930ae93",
   "metadata": {},
   "source": [
    "## Part 2\n",
    "\n",
    "part นี้ให้เราหาความสูงหลังจากหินก้อนที่ 10^12 ซึ่งเราไม่มีทาง simulate ทีละก้อนได้แน่ๆ\n",
    "\n",
    "จุดสังเกตก็คือ เนื่องจากทิศทางลมมีความยาวจำกัด (ประมาณ 10000) และหินก็มีจำนวนจำกัด (5 รูปแบบ)\n",
    "ดังนั้นมันจะต้องวนกลับมาที่ state เดิมภายในประมาณ 50000 steps\n",
    "ถ้าเราหาขนาดของ loop นี้ได้ เราก็จะเหลืองานที่ต้อง simulate แค่ก่อนหน้าเข้า loop, ใน loop, และหลังจาก loop\n",
    "\n",
    "ที่พูดมาข้างบนนี้ก็ไม่ครบถ้วนซะทีเดียว เพราะอีกตัวแปรหนึ่งที่มีผลต่อ state นอกจากรูปแบบของหินและลมแล้ว ก็ยังมี game state เองอีกด้วย\n",
    "เราพอจะ assume ได้ว่า game state ที่มีผลมันมีแค่ row บนๆ ไม่กี่ rows เท่านั้น แต่จะเก็บเป็นส่วนหนึ่งของ state ด้วยก็อาจจะซับซ้อนเกินจำเป็น\n",
    "วิธีที่ง่ายกว่าคือ สังเกตว่ามันจะมีแค่ช่วงหินก้อนแรกๆ ที่อยู่ใน state ที่ไม่ซ้ำกับ state ที่เป็นส่วนหนึ่งของ loop\n",
    "หมายความว่า พอรันไปซักพักเราจะเข้าสู่ส่วนที่เป็น loop เพราะงั้นเราก็แค่รัน warmup ไปสักพัก แค่พอให้มันพ้นช่วงแรกไป\n",
    "จากนั้นก็ใช้แค่หินกับลมเป็น state ตามที่คิดไว้แต่แรก"
   ]
  },
  {
   "cell_type": "code",
   "execution_count": 4,
   "id": "41d3ff5d",
   "metadata": {},
   "outputs": [
    {
     "name": "stdout",
     "output_type": "stream",
     "text": [
      "1577207977186\n"
     ]
    }
   ],
   "source": [
    "a = [127]\n",
    "rock_count = 0\n",
    "wi = 0\n",
    "\n",
    "t = 10**12\n",
    "warmup = 1000\n",
    "t -= warmup\n",
    "\n",
    "warmup.times{\n",
    "  a, wi = simulate(a, rocks, rock_count % 5, input, wi)  \n",
    "  rock_count += 1\n",
    "}\n",
    "\n",
    "records = input.size.times.map{ Array.new(5) }\n",
    "\n",
    "ri = rock_count % 5\n",
    "until records[wi][ri]\n",
    "  records[wi][ri] = [rock_count, a.size - 1]\n",
    "  a, wi = simulate(a, rocks, ri, input, wi)  \n",
    "  rock_count += 1\n",
    "  ri = rock_count % 5 \n",
    "end\n",
    "\n",
    "loop_size = rock_count - records[wi][ri][0]\n",
    "rows_per_loop = a.size - 1 - records[wi][ri][1]\n",
    "rows_pre_loop = records[wi][ri][1]\n",
    "\n",
    "loops, remain = t.divmod(loop_size)\n",
    "\n",
    "remain.times{\n",
    "  a, wi = simulate(a, rocks, rock_count % 5, input, wi)  \n",
    "  rock_count += 1 \n",
    "}\n",
    "\n",
    "rows_post_loop = a.size - 1 - (rows_pre_loop + rows_per_loop)\n",
    "\n",
    "puts rows_pre_loop + rows_per_loop * loops + rows_post_loop"
   ]
  }
 ],
 "metadata": {
  "kernelspec": {
   "display_name": "Ruby 3.1.3",
   "language": "ruby",
   "name": "ruby"
  },
  "language_info": {
   "file_extension": ".rb",
   "mimetype": "application/x-ruby",
   "name": "ruby",
   "version": "3.1.3"
  }
 },
 "nbformat": 4,
 "nbformat_minor": 5
}
