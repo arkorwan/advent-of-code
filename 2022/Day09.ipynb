{
 "cells": [
  {
   "cell_type": "markdown",
   "id": "96babb92",
   "metadata": {},
   "source": [
    "# Day 9\n",
    "\n",
    "link: https://adventofcode.com/2022/day/9"
   ]
  },
  {
   "cell_type": "markdown",
   "id": "11afaf8c",
   "metadata": {},
   "source": [
    "input ของข้อนี้คือการเคลื่อนไหวของเชือก เราอ่านมาเก็บไว้ในรูปแบบของ (ทิศแกน x, ทิศแกน y, จำนวนช่องที่ขยับ)\n",
    "เช่น L 5 ก็เปลี่ยนเป็น (-1, 0, 5), U 10 เปลี่ยนเป็น (0, 1, 10)"
   ]
  },
  {
   "cell_type": "code",
   "execution_count": 1,
   "id": "872a7791",
   "metadata": {},
   "outputs": [],
   "source": [
    "input = IO.foreach('data/09.txt').to_a.map(&:strip)\n",
    "\n",
    "movements = input.map{|line|\n",
    "  d,v = line.split(\" \")\n",
    "  case d\n",
    "  when 'U' then [0,1,v.to_i]\n",
    "  when 'D' then [0,-1,v.to_i]\n",
    "  when 'R' then [1,0,v.to_i]\n",
    "  when 'L' then [-1,0,v.to_i]\n",
    "  end\n",
    "}\n",
    "nil"
   ]
  },
  {
   "cell_type": "markdown",
   "id": "f564cf20",
   "metadata": {},
   "source": [
    "เพื่อความสะดวก เราสร้าง class `Knot` ซึ่งเก็บตำแหน่งของปม และมี method `follow` ซึ่งจะขยับตำแหน่ง ตามตำแหน่งของปมก่อนหน้า\n",
    "ในส่วน logic ของ `follow` นั้น เราเช็คว่าการขยับจะเกิดขึ้น ก็ต่อเมื่อตำแหน่งในอย่างน้อย 1 แกน ห่างกันมากกว่า 1\n",
    "ส่วนทิศทางการเคลื่อนที่นั้นหาได้จาก spaceship operator โดยตรง"
   ]
  },
  {
   "cell_type": "code",
   "execution_count": 2,
   "id": "4172d835",
   "metadata": {},
   "outputs": [],
   "source": [
    "class Knot\n",
    "  attr_accessor  :x, :y\n",
    "\n",
    "  def initialize(x, y)\n",
    "    @x = x\n",
    "    @y = y\n",
    "  end\n",
    "\n",
    "  def follow(other)\n",
    "    ex = other.x - @x\n",
    "    ey = other.y - @y\n",
    "    if ex.abs == 2 || ey.abs == 2\n",
    "      @x += ex <=> 0\n",
    "      @y += ey <=> 0\n",
    "    end  \n",
    "  end\n",
    "end\n",
    "nil"
   ]
  },
  {
   "cell_type": "markdown",
   "id": "ddd02ab8",
   "metadata": {},
   "source": [
    "## Part 1\n",
    "\n",
    "เมื่อมี method `follow` แล้วที่เหลือก็ไม่มีอะไรยาก เราแค่ simulate การเคลื่อนไหวของเชือก แล้วเก็บตำแหน่งของ tail ทั้งหมดเก็บไว้ใน Set"
   ]
  },
  {
   "cell_type": "code",
   "execution_count": 3,
   "id": "38d5d1a6",
   "metadata": {},
   "outputs": [
    {
     "name": "stdout",
     "output_type": "stream",
     "text": [
      "6067\n"
     ]
    }
   ],
   "source": [
    "h = Knot.new(0, 0)\n",
    "t = Knot.new(0, 0)\n",
    "\n",
    "trails = Set.new\n",
    "trails << [t.x, t.y]\n",
    "\n",
    "movements.each{|dx, dy, q|\n",
    "  q.times{\n",
    "    h.x += dx\n",
    "    h.y += dy\n",
    "\n",
    "    t.follow(h)\n",
    "\n",
    "    trails << [t.x, t.y]\n",
    "  }\n",
    "}\n",
    "\n",
    "puts trails.size"
   ]
  },
  {
   "cell_type": "markdown",
   "id": "9e1753e1",
   "metadata": {},
   "source": [
    "## Part 2\n",
    "\n",
    "part หลังก็ทำเหมือน part แรกเลย แค่เราต้องสั่ง `follow` สำหรับทุกๆ knot ตามลำดับ"
   ]
  },
  {
   "cell_type": "code",
   "execution_count": 4,
   "id": "5f8a5cbd",
   "metadata": {},
   "outputs": [
    {
     "name": "stdout",
     "output_type": "stream",
     "text": [
      "2471\n"
     ]
    }
   ],
   "source": [
    "knots = 10.times.map{Knot.new(0, 0)}\n",
    "\n",
    "trails = Set.new\n",
    "trails << [knots[-1].x, knots[-1].y]\n",
    "\n",
    "movements.each{|dx, dy, q|\n",
    "  q.times{\n",
    "    knots[0].x += dx\n",
    "    knots[0].y += dy\n",
    "\n",
    "    1.upto(knots.length - 1){|i|\n",
    "      knots[i].follow(knots[i-1])\n",
    "    }\n",
    "\n",
    "    trails << [knots[-1].x, knots[-1].y]\n",
    "  }\n",
    "}\n",
    "\n",
    "puts trails.size"
   ]
  }
 ],
 "metadata": {
  "kernelspec": {
   "display_name": "Ruby 3.1.3",
   "language": "ruby",
   "name": "ruby"
  },
  "language_info": {
   "file_extension": ".rb",
   "mimetype": "application/x-ruby",
   "name": "ruby",
   "version": "3.1.3"
  }
 },
 "nbformat": 4,
 "nbformat_minor": 5
}
