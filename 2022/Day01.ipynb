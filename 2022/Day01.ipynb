{
 "cells": [
  {
   "cell_type": "markdown",
   "id": "8fe1058f",
   "metadata": {},
   "source": [
    "# Day 1\n",
    "\n",
    "link: https://adventofcode.com/2022/day/1"
   ]
  },
  {
   "cell_type": "markdown",
   "id": "e02bd08d",
   "metadata": {},
   "source": [
    "อันดับแรกก็ต้องอ่าน input เข้ามาก่อน ปีนี้เราตั้งกฎให้ตัวเองไว้ว่าจะต้องอ่าน input มาเป็นไฟล์ ห้ามก็อป input มาวางใน code ซึ่งบางข้อทำแบบนี้มันจะง่ายขึ้นเยอะ แต่ปีนี้เราอยากให้โค้ดมันหน้าตาเป็นมาตรฐานเดียวกันมากขึ้น\n",
    "\n",
    "ท่ามาตรฐานที่เราจะใช้เหมือนกันทุกข้อก็คือ อ่าน text file เข้ามาเก็บไว้เป็น array ของ line ที่ตัด newline ทิ้งแล้ว หลังจากนั้นก็จะแปลง array of lines นี้ให้เป็น model ซึ่งถ้าทำดีๆ ก็น่าจะแชร์กันระหว่างโจทย์ทั้ง 2 parts ได้ \n",
    "\n",
    "ในข้อแรกนี้ เราได้ input มาเป็น integer list บรรทัดละ 1 จำนวน คั่นด้วย empty line สิ่งที่อยากได้คือ sum ของแต่ละ group\n",
    "\n",
    "ตามปกติของการเป็นข้อแรก มันก็จะง่ายจัดๆ แบบนี้เราก็จะไม่ค่อยนึกถึงเรื่อง efficiency เท่าไหร่ จะไปเน้นเขียนเป็น one-liner แทน อันนี้เราเลยเขียนแบบ hack หน่อยๆ"
   ]
  },
  {
   "cell_type": "code",
   "execution_count": 27,
   "id": "8e34a2a8",
   "metadata": {
    "scrolled": false
   },
   "outputs": [],
   "source": [
    "input = IO.foreach('in01.txt').map(&:strip).to_a\n",
    "\n",
    "calories = input.join(\"|\").split(\"||\").map{|x| x.split(\"|\").map(&:to_i).sum}\n",
    "\n",
    "nil"
   ]
  },
  {
   "cell_type": "markdown",
   "id": "6a5d675c",
   "metadata": {},
   "source": [
    "## Part 1\n",
    "\n",
    "ครึ่งแรกของโจทย์ คือให้หาว่า elf ที่ถือจำนวน calories มากที่สุด มันมีจำนวน calories เท่าไหร่ ก็คือหา max จาก list ที่เรามีนั่นแหละ"
   ]
  },
  {
   "cell_type": "code",
   "execution_count": 1,
   "id": "6f82d7b3",
   "metadata": {},
   "outputs": [
    {
     "ename": "NameError",
     "evalue": "undefined local variable or method `calories' for #<Object:0x0000023566fa2740>",
     "output_type": "error",
     "traceback": [
      "\u001b[31mNameError\u001b[0m: undefined local variable or method `calories' for #<Object:0x0000023566fa2740>",
      "(irb):in `<top (required)>'"
     ]
    }
   ],
   "source": [
    "puts calories.max"
   ]
  },
  {
   "cell_type": "markdown",
   "id": "0b94dc06",
   "metadata": {},
   "source": [
    "## Part 2\n",
    "\n",
    "ครึ่งหลัง เปลี่ยนจากหา max เป็น top 3 ก็แค่ sort มันซะ"
   ]
  },
  {
   "cell_type": "code",
   "execution_count": null,
   "id": "8d615f88",
   "metadata": {},
   "outputs": [],
   "source": [
    "puts calories.sort[-3..-1].sum"
   ]
  }
 ],
 "metadata": {
  "kernelspec": {
   "display_name": "Ruby 3.1.3",
   "language": "ruby",
   "name": "ruby"
  },
  "language_info": {
   "file_extension": ".rb",
   "mimetype": "application/x-ruby",
   "name": "ruby",
   "version": "3.1.3"
  }
 },
 "nbformat": 4,
 "nbformat_minor": 5
}
