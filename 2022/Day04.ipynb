{
 "cells": [
  {
   "cell_type": "markdown",
   "id": "b53b0c25",
   "metadata": {},
   "source": [
    "# Day 4\n",
    "\n",
    "link: https://adventofcode.com/2022/day/4"
   ]
  },
  {
   "cell_type": "markdown",
   "id": "a070be3e",
   "metadata": {},
   "source": [
    "เราแปลง input ข้อนี้ จาก \"{a}-{b},{c}-{d}\" ให้เป็นตัวเลข 4 ตัว: `[a, b, c, d]`"
   ]
  },
  {
   "cell_type": "code",
   "execution_count": 1,
   "id": "632775da",
   "metadata": {},
   "outputs": [],
   "source": [
    "input = IO.foreach('data/04.txt').to_a.map(&:strip)\n",
    "\n",
    "ranges = input.map{|line|\n",
    "  line.split(/[\\,\\-]/).map(&:to_i)\n",
    "}\n",
    "nil"
   ]
  },
  {
   "cell_type": "markdown",
   "id": "c3824951",
   "metadata": {},
   "source": [
    "## Part 1\n",
    "\n",
    "ครึ่งแรกให้นับเคสที่ assignment ฝั่งซ้าย fully cover ฝั่งขวา หรือกลับกัน\n",
    "\n",
    "เงื่อนไขของซ้าย cover ขวา คือ `acdb`: a <= c, b >= d\n",
    "\n",
    "เงื่อนไขของขวา cover ซ้าย คือ `cabd`: a >= c, b <= d"
   ]
  },
  {
   "cell_type": "code",
   "execution_count": 2,
   "id": "6ee56328",
   "metadata": {},
   "outputs": [
    {
     "name": "stdout",
     "output_type": "stream",
     "text": [
      "305\n"
     ]
    }
   ],
   "source": [
    "puts ranges.count{|a,b,c,d|\n",
    "  (a <= c && b >= d) || (a >= c && b <= d) \n",
    "}"
   ]
  },
  {
   "cell_type": "markdown",
   "id": "281ead45",
   "metadata": {},
   "source": [
    "## Part 2\n",
    "\n",
    "ครึ่งหลังให้นับเคสที่ assignment สองฝั่งมีส่วนที่ overlap กัน แปลว่า c อยู่ระหว่าง a-b (`acb`) หรือ a อยู่ระหว่าง c-d (`cad`)"
   ]
  },
  {
   "cell_type": "code",
   "execution_count": 3,
   "id": "7933fe1e",
   "metadata": {},
   "outputs": [
    {
     "name": "stdout",
     "output_type": "stream",
     "text": [
      "811\n"
     ]
    }
   ],
   "source": [
    "puts ranges.count{|a,b,c,d|\n",
    "  (a <= c && b >= c) || (c <= a && d >= a)  \n",
    "}"
   ]
  }
 ],
 "metadata": {
  "kernelspec": {
   "display_name": "Ruby 3.1.3",
   "language": "ruby",
   "name": "ruby"
  },
  "language_info": {
   "file_extension": ".rb",
   "mimetype": "application/x-ruby",
   "name": "ruby",
   "version": "3.1.3"
  }
 },
 "nbformat": 4,
 "nbformat_minor": 5
}
