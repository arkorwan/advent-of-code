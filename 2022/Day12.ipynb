{
 "cells": [
  {
   "cell_type": "markdown",
   "id": "c665c9c4",
   "metadata": {},
   "source": [
    "# Day 12\n",
    "\n",
    "link: https://adventofcode.com/2022/day/12"
   ]
  },
  {
   "cell_type": "markdown",
   "id": "cda64c96",
   "metadata": {},
   "source": [
    "input ของข้อนี้คือความสูงของ cell ใน square grid ซึ่งแทนด้วยตัวอักษร เราก็แปลงให้เป็นตัวเลขซะ\n",
    "นอกจากนั้นก็ต้องเก็บตำแหน่งเริ่มต้น (S) กับเป้าหมาย (E) ไว้ด้วย "
   ]
  },
  {
   "cell_type": "code",
   "execution_count": 1,
   "id": "8a54c912",
   "metadata": {},
   "outputs": [],
   "source": [
    "input = IO.foreach('data/12.txt').to_a.map(&:strip)\n",
    "\n",
    "start_pos = nil\n",
    "end_pos = nil\n",
    "\n",
    "map = input.each_with_index.map{|line, i|\n",
    "  j0 = line.index('S')\n",
    "  j1 = line.index('E')\n",
    "  row = line.split('').map{|c| c.ord - 'a'.ord}\n",
    "  \n",
    "  if j0\n",
    "    start_pos = [i, j0]\n",
    "    row[j0] = 0\n",
    "  end\n",
    "\n",
    "  if j1\n",
    "    end_pos = [i, j1]\n",
    "    row[j1] = 25\n",
    "  end\n",
    "  \n",
    "  row\n",
    "}\n",
    "nil"
   ]
  },
  {
   "cell_type": "markdown",
   "id": "242f7947",
   "metadata": {},
   "source": [
    "## Part 1\n",
    "\n",
    "เราต้องหาทางที่สั้นที่สุดจาก S ไปหา E ซึ่งเราใช้ flood fill หาได้ไม่ยาก\n",
    "\n",
    "(code นี้เราทำ support part 2 ไปแล้ว แล้วพบว่ามันจะสะดวกกว่าถ้าเราให้มันหาทางจาก E ไป S ซึ่งก็ได้คำตอบเดียวกัน)"
   ]
  },
  {
   "cell_type": "code",
   "execution_count": 2,
   "id": "053fdeb5",
   "metadata": {},
   "outputs": [
    {
     "name": "stdout",
     "output_type": "stream",
     "text": [
      "437\n"
     ]
    }
   ],
   "source": [
    "def find_shortest(map, predicate, end_pos)\n",
    "\n",
    "  rows = map.size\n",
    "  cols = map[0].size\n",
    "\n",
    "  shortest = map.map{ Array.new(cols) }\n",
    "  shortest[end_pos[0]][end_pos[1]] = 0\n",
    "\n",
    "  q = [end_pos]\n",
    "  found = nil\n",
    "  until found\n",
    "    x,y = q.pop\n",
    "    steps = shortest[x][y]\n",
    "    h = map[x][y]\n",
    "    nexts = []\n",
    "    nexts << [x-1, y] if x > 0\n",
    "    nexts << [x+1, y] if x < rows - 1\n",
    "    nexts << [x, y-1] if y > 0\n",
    "    nexts << [x, y+1] if y < cols - 1\n",
    "\n",
    "    nexts.each{|i, j|\n",
    "      if map[i][j] >= h - 1 && shortest[i][j] == nil\n",
    "        shortest[i][j] = steps + 1\n",
    "        found = steps + 1 if predicate.call([i, j])\n",
    "        q.unshift([i, j])\n",
    "      end    \n",
    "    }\n",
    "  end\n",
    "\n",
    "  found\n",
    "end\n",
    "\n",
    "predicate = ->(x){x == start_pos}\n",
    "puts find_shortest(map, predicate, end_pos)"
   ]
  },
  {
   "cell_type": "markdown",
   "id": "1d74b50f",
   "metadata": {},
   "source": [
    "## Part 2\n",
    "\n",
    "part หลังให้เราหา shortest path เหมือนเดิม แต่ให้เริ่มจากจุดไหนก็ได้ที่มีความสูงเป็น 0\n",
    "ซึ่งเราสามารถมองกลับกันได้ ก็คือให้เริ่มจาก E แล้วหยุดเมื่อเจอจุดแรกที่มีความสูงเป็น 0"
   ]
  },
  {
   "cell_type": "code",
   "execution_count": 3,
   "id": "aa340536",
   "metadata": {},
   "outputs": [
    {
     "name": "stdout",
     "output_type": "stream",
     "text": [
      "430\n"
     ]
    }
   ],
   "source": [
    "predicate = ->(x){map[x[0]][x[1]] == 0}\n",
    "puts find_shortest(map, predicate, end_pos)"
   ]
  }
 ],
 "metadata": {
  "kernelspec": {
   "display_name": "Ruby 3.1.3",
   "language": "ruby",
   "name": "ruby"
  },
  "language_info": {
   "file_extension": ".rb",
   "mimetype": "application/x-ruby",
   "name": "ruby",
   "version": "3.1.3"
  }
 },
 "nbformat": 4,
 "nbformat_minor": 5
}
