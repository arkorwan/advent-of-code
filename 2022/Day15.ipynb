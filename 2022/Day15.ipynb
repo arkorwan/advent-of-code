{
 "cells": [
  {
   "cell_type": "markdown",
   "id": "cb928aed",
   "metadata": {},
   "source": [
    "# Day 15\n",
    "\n",
    "link: https://adventofcode.com/2022/day/15"
   ]
  },
  {
   "cell_type": "markdown",
   "id": "b4ce7789",
   "metadata": {},
   "source": [
    "ก่อนอื่น เรา parse input เก็บเฉพาะ coordinate ของ sensor และ beacon"
   ]
  },
  {
   "cell_type": "code",
   "execution_count": 1,
   "id": "d9c907db",
   "metadata": {},
   "outputs": [],
   "source": [
    "input = IO.foreach('data/15.txt').to_a.map(&:strip)\n",
    "\n",
    "sensors = input.map{|line|\n",
    "  words = line.split(/[\\s\\,=]/)\n",
    "  [words[3].to_i, words[6].to_i, words[12].to_i, words[15].to_i]\n",
    "}\n",
    "nil"
   ]
  },
  {
   "cell_type": "markdown",
   "id": "1fde536a",
   "metadata": {},
   "source": [
    "## Part 1\n",
    "\n",
    "เราสามารถหา range ของ sensor ได้ จาก manhattan distance ระหว่างคู่ sensor กับ beacon\n",
    "สมมติให้ range นี้ มีค่า `d`\n",
    "\n",
    "ข้อนี้เราสนใจเฉพาะ row ที่ 2000000 เราก็ลากเส้นตรงจาก sensor ในแนวดิ่งไปที่ row ที่ 2000000 ให้เส้นนี้ยาว `dy`\n",
    "\n",
    "- ถ้า `dy > d` แปลว่า row นี้อยู่นอกระยะของ sensor เราก็ ignore ได้\n",
    "- ถ้า `dy <= d` ก็จะยังเหลือ range ของ sensor อยู่อีก `dx = d - dy` ซึ่งเราสามารถบิดไปทางซ้ายหรือขวาก็ได้ ดังนั้น sensor ตัวนี้จะครอบคลุมตำแหน่ง `x - dx` ไปจนถึง `x + dx`\n",
    "\n",
    "เราก็หา range ของ sensor ทุกตัว เอามา merge กัน แล้วนับ ก็จะได้จำนวนตำแหน่งที่ไม่สามารถมี beacon อยู่ได้ _ยกเว้น_ ตำแหน่งที่มี beacon อยู่จริงๆ ต้องเอาไปลบออก"
   ]
  },
  {
   "cell_type": "code",
   "execution_count": 2,
   "id": "26412597",
   "metadata": {},
   "outputs": [
    {
     "name": "stdout",
     "output_type": "stream",
     "text": [
      "5838453\n"
     ]
    }
   ],
   "source": [
    "def try_merge(occupied, i)\n",
    "  while i >= 0 && occupied[i] && occupied[i+1] && occupied[i][1] >= occupied[i+1][0] - 1\n",
    "    r1, r2 = occupied.delete_at(i+1)\n",
    "    occupied[i][1] = r2 if r2 > occupied[i][1]\n",
    "  end\n",
    "end\n",
    "\n",
    "def find_occupied_range(sensors, y, min_x, max_x)\n",
    "  occupied = []\n",
    "  sensors.each{|sx, sy, bx, by|\n",
    "    d = (bx-sx).abs + (by-sy).abs\n",
    "    dy = (sy - y).abs\n",
    "    dx = d - dy\n",
    "    if dx >= 0\n",
    "      x1 = sx - dx\n",
    "      x2 = sx + dx\n",
    "\n",
    "      x1 = min_x if min_x && x1 < min_x\n",
    "      x2 = max_x if max_x && x2 > max_x\n",
    "\n",
    "      i = 0\n",
    "      i += 1 while occupied[i] && occupied[i][0] <= x1\n",
    "\n",
    "      occupied.insert(i, [x1, x2])\n",
    "      \n",
    "      try_merge(occupied, i - 1)\n",
    "      try_merge(occupied, i)\n",
    "      \n",
    "    end\n",
    "  }\n",
    "  occupied\n",
    "end\n",
    "\n",
    "target_row = 2000000\n",
    "occupied = find_occupied_range(sensors, target_row, nil, nil)\n",
    "occupied_size = occupied.map{|x1, x2| x2-x1 + 1}.sum\n",
    "\n",
    "existing_beacons = sensors.select{|sx, sy, bx, by| by == target_row}.map{|sx, sy, bx, by| bx}.uniq\n",
    "\n",
    "overcount = existing_beacons.count{|bx|\n",
    "  occupied.any?{|x1, x2| x1 <= bx && bx <= x2}\n",
    "}\n",
    "\n",
    "puts occupied_size - overcount"
   ]
  },
  {
   "cell_type": "markdown",
   "id": "7c0fc4e7",
   "metadata": {},
   "source": [
    "## Part 2\n",
    "\n",
    "part หลังเราไม่ได้ทำอะไรซับซ้อนมาก แค่เพิ่ม constraint ว่า hidden beacon นี้ต้องอยู่ใน range (0, 0) ถึง (4000000, 4000000)\n",
    "เราก็ใช้ method เดิมวนไป 4000000 รอบ หา row ที่มี disjointed range ซึ่งโจทย์ยืนยันว่าจะมีอยู่แค่ row เดียว กินเวลานิดหน่อยแต่ก็ไม่นานจนเกินไป"
   ]
  },
  {
   "cell_type": "code",
   "execution_count": 3,
   "id": "69225944",
   "metadata": {},
   "outputs": [
    {
     "name": "stdout",
     "output_type": "stream",
     "text": [
      "12413999391794\n"
     ]
    }
   ],
   "source": [
    "m = 4000000\n",
    "0.upto(m){|y|\n",
    "  occupied = find_occupied_range(sensors, y, 0, m)\n",
    "  if occupied.size == 2 # would miss if the beacon is at x = 0 or x = m\n",
    "    puts y + m * (occupied[0][1] + 1)\n",
    "    break\n",
    "  end\n",
    "}"
   ]
  }
 ],
 "metadata": {
  "kernelspec": {
   "display_name": "Ruby 3.1.3",
   "language": "ruby",
   "name": "ruby"
  },
  "language_info": {
   "file_extension": ".rb",
   "mimetype": "application/x-ruby",
   "name": "ruby",
   "version": "3.1.3"
  }
 },
 "nbformat": 4,
 "nbformat_minor": 5
}
