{
 "cells": [
  {
   "cell_type": "markdown",
   "id": "cdb71fec",
   "metadata": {},
   "source": [
    "# Day 6\n",
    "\n",
    "link: https://adventofcode.com/2022/day/6"
   ]
  },
  {
   "cell_type": "markdown",
   "id": "5ff06d99",
   "metadata": {},
   "source": [
    "ข้อนี้ input เป็น string ยาวในบรรทัดเดียว เลยเปลี่ยนวิธีอ่านเล็กน้อย"
   ]
  },
  {
   "cell_type": "code",
   "execution_count": 1,
   "id": "934f68ee",
   "metadata": {},
   "outputs": [],
   "source": [
    "input = IO.read('data/06.txt')\n",
    "nil"
   ]
  },
  {
   "cell_type": "markdown",
   "id": "5a0f74e5",
   "metadata": {},
   "source": [
    "## Part 1\n",
    "\n",
    "โจทย์ให้หา substring ขนาด 4 characters อันแรกที่ตัวอักษรไม่ซ้ำกัน เราใช้ `each_cons(4)` เพื่อสร้าง sliding window แล้วจับ substring มา `uniq` เพื่อกำจัดตัวซ้ำ ถ้ายังได้ string เดิมก็คือไม่มีตัวซ้ำ"
   ]
  },
  {
   "cell_type": "code",
   "execution_count": 2,
   "id": "4c35a323",
   "metadata": {},
   "outputs": [
    {
     "name": "stdout",
     "output_type": "stream",
     "text": [
      "1794\n"
     ]
    }
   ],
   "source": [
    "puts input.chars.each_cons(4).to_a.index{|x| x == x.uniq} + 4"
   ]
  },
  {
   "cell_type": "markdown",
   "id": "1f315b0b",
   "metadata": {},
   "source": [
    "## Part 2\n",
    "\n",
    "ทำเหมือนเดิม แค่เปลี่ยนตัวเลขจาก 4 เป็น 14"
   ]
  },
  {
   "cell_type": "code",
   "execution_count": 3,
   "id": "0d641a3b",
   "metadata": {},
   "outputs": [
    {
     "name": "stdout",
     "output_type": "stream",
     "text": [
      "2851\n"
     ]
    }
   ],
   "source": [
    "puts input.chars.each_cons(14).to_a.index{|x| x == x.uniq} + 14"
   ]
  }
 ],
 "metadata": {
  "kernelspec": {
   "display_name": "Ruby 3.1.3",
   "language": "ruby",
   "name": "ruby"
  },
  "language_info": {
   "file_extension": ".rb",
   "mimetype": "application/x-ruby",
   "name": "ruby",
   "version": "3.1.3"
  }
 },
 "nbformat": 4,
 "nbformat_minor": 5
}
