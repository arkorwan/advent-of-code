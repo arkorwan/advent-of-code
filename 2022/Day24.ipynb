{
 "cells": [
  {
   "cell_type": "markdown",
   "id": "9b8af801",
   "metadata": {},
   "source": [
    "# Day 24\n",
    "\n",
    "link: https://adventofcode.com/2022/day/24"
   ]
  },
  {
   "cell_type": "markdown",
   "id": "5986d4ec",
   "metadata": {},
   "source": [
    "ข้อนี้ก็เป็นการหา shortest path อีกแล้ว เพียงแต่ว่า map ของเรามันจะเปลี่ยนไปในแต่ละ time step\n",
    "\n",
    "เราคิดว่าวิธีที่ implement ง่ายที่สุด ก็คือการคิด map ล่วงหน้าไว้ทุก time step เลย\n",
    "(หรือจะจินตนาการว่ามันเป็น 3-d spacetime map ก็ได้)\n",
    "\n",
    "ใน map ขนาด r x c สังเกตว่า blizzard ในแนวนอนจะวนซ้ำทุก c steps\n",
    "และในแนวตั้งจะวนซ้ำทุก r steps ดังนั้นทั้ง map จะวนกลับเข้า state เดิมใน L = lcm(r, c) steps\n",
    "เราก็เตรียม map ไว้ล่วงหน้าทั้ง L steps"
   ]
  },
  {
   "cell_type": "code",
   "execution_count": 1,
   "id": "d192fea8",
   "metadata": {},
   "outputs": [],
   "source": [
    "input = IO.foreach('data/24.txt').to_a.map(&:strip)\n",
    "\n",
    "h = input.size - 2\n",
    "w = input[0].size - 2\n",
    "l = h.lcm(w)\n",
    "\n",
    "a = Array.new(l){ Array.new(h) {Array.new(w, true)}}\n",
    "\n",
    "h.times{|r|\n",
    "  w.times{|c|\n",
    "    d = input[r+1][c+1]\n",
    "    next if d == '.'\n",
    "\n",
    "    dr, dc = case d\n",
    "    when '>' then [0, 1]\n",
    "    when '<' then [0, -1]\n",
    "    when 'v' then [1, 0]\n",
    "    when '^' then [-1, 0]\n",
    "    end\n",
    "\n",
    "    l.times{|t|\n",
    "      a[t][(l+r+dr*t) % h][(l+c+dc*t) % w] = false\n",
    "    }\n",
    "  }\n",
    "}\n",
    "nil"
   ]
  },
  {
   "cell_type": "markdown",
   "id": "2807f598",
   "metadata": {},
   "source": [
    "## Part 1\n",
    "\n",
    "เราจะใช้วิธีเก็บ reachable states ในแต่ละ time step ว่าเราสามารถเดินไปถึงพิกัดไหนได้บ้าง\n",
    "พอขยับไป time step ถัดไป เราก็เปลี่ยน map ด้วย แล้วดูว่าจากแต่ละ state จะเคลื่อนไปตรงไหนได้\n",
    "ซึ่งอาจจะเดินขึ้น ลง ซ้าย ขวา หรืออยู่ที่เดิมก็ได้\n",
    "\n",
    "นอกจากนี้เรายังสามารถหยุดรออยู่ที่จุดเริ่มต้นนานเท่าไหร่ก็ได้ ดังนั้นทุกๆ time step เราต้องเช็คว่าจุดเริ่มต้น (0, 0) นั้นว่างหรือเปล่า\n",
    "ถ้าว่างมันก็จะกลายเป็น reachable state ใน time step นั้นๆ ด้วย"
   ]
  },
  {
   "cell_type": "code",
   "execution_count": 2,
   "id": "4edf4adc",
   "metadata": {},
   "outputs": [
    {
     "name": "stdout",
     "output_type": "stream",
     "text": [
      "238\n"
     ]
    }
   ],
   "source": [
    "require 'set'\n",
    "\n",
    "def can_move(mp, r, c)\n",
    "  r >= 0 && r < mp.size && c >= 0 && c < mp[0].size && mp[r][c]\n",
    "end\n",
    "\n",
    "def min_steps(a, initial_slice, start, target)\n",
    "\n",
    "  positions = Set.new\n",
    "  turns = 0\n",
    "  slice = initial_slice\n",
    "  l = a.size\n",
    "  until positions.include?(target)\n",
    "    mp = a[slice]\n",
    "    n_positions = Set.new\n",
    "    n_positions << start if mp[start[0]][start[1]]\n",
    "    positions.each{|r, c|\n",
    "      n_positions << [r, c] if can_move(mp, r, c)\n",
    "      n_positions << [r+1, c] if can_move(mp, r+1, c)\n",
    "      n_positions << [r-1, c] if can_move(mp, r-1, c)\n",
    "      n_positions << [r, c+1] if can_move(mp, r, c+1)\n",
    "      n_positions << [r, c-1] if can_move(mp, r, c-1)\n",
    "    }\n",
    "    turns += 1\n",
    "    slice = (slice + 1) % l \n",
    "    positions = n_positions\n",
    "  end\n",
    "  [turns, slice]\n",
    "end\n",
    "\n",
    "turns1, slice1 = min_steps(a, 0, [0, 0], [h-1, w-1])\n",
    "puts turns1"
   ]
  },
  {
   "cell_type": "markdown",
   "id": "72f68e1b",
   "metadata": {},
   "source": [
    "## Part 2\n",
    "\n",
    "ใน part หลัง เราก็ใช้ method เดิม แต่เปลี่ยนจุดเริ่มต้นและเป้าหมาย และ time step เริ่มต้น\n",
    "เพิ่อเดินกลับไปที่ (0, 0) และกลับมาอีกครั้ง"
   ]
  },
  {
   "cell_type": "code",
   "execution_count": 3,
   "id": "25e5cc3a",
   "metadata": {},
   "outputs": [
    {
     "name": "stdout",
     "output_type": "stream",
     "text": [
      "751\n"
     ]
    }
   ],
   "source": [
    "turns2, slice2 = min_steps(a, slice1, [h-1, w-1], [0, 0])\n",
    "turns3, slice3 = min_steps(a, slice2, [0, 0], [h-1, w-1])\n",
    "puts turns1 + turns2 + turns3"
   ]
  }
 ],
 "metadata": {
  "kernelspec": {
   "display_name": "Ruby 3.1.3",
   "language": "ruby",
   "name": "ruby"
  },
  "language_info": {
   "file_extension": ".rb",
   "mimetype": "application/x-ruby",
   "name": "ruby",
   "version": "3.1.3"
  }
 },
 "nbformat": 4,
 "nbformat_minor": 5
}
