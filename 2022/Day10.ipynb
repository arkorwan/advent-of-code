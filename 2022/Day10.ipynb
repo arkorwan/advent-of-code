{
 "cells": [
  {
   "cell_type": "markdown",
   "id": "595bab3b",
   "metadata": {},
   "source": [
    "# Day 10\n",
    "\n",
    "link: https://adventofcode.com/2022/day/10"
   ]
  },
  {
   "cell_type": "markdown",
   "id": "dd9f4705",
   "metadata": {},
   "source": [
    "เราจะเก็บค่า x ในแต่ละ cycle ลง array โดยที่เราใส่ค่าเริ่มต้นให้ก่อนเป็น 1\n",
    "- ถ้าเจอ noop เราก็ใส่ค่าเดิมซ้ำลงไป\n",
    "- ถ้าเจอ addx เราใส่ค่าเดิม แล้วตามด้วยค่า x ที่อัพเดตใหม่"
   ]
  },
  {
   "cell_type": "code",
   "execution_count": 1,
   "id": "82b6f386",
   "metadata": {},
   "outputs": [],
   "source": [
    "input = IO.foreach('data/10.txt').to_a.map(&:strip)\n",
    "\n",
    "xs = [1]\n",
    "input.each{|line|\n",
    "  args = line.split(\" \")\n",
    "  case args[0]\n",
    "  when 'noop'\n",
    "    xs << xs[-1]\n",
    "  when 'addx'\n",
    "    xs << xs[-1]\n",
    "    xs << xs[-1] + args[1].to_i\n",
    "  end\n",
    "}\n",
    "nil"
   ]
  },
  {
   "cell_type": "markdown",
   "id": "1c1f0c16",
   "metadata": {},
   "source": [
    "## Part 1\n",
    "\n",
    "เราต้องการค่า x _ระหว่าง_ cycle ที่ 20, 60, ..., 220 แต่ค่า x ที่เราเก็บไว้นั้น `xs[i]` จะหมายถึงค่าเมื่อจบ cycle ที่ i\n",
    "ดังนั้นถ้าอยากได้ค่าระหว่าง cycle ต้องไปดูที่ช่องก่อนหน้า ก็คือ `xs[i-1]`"
   ]
  },
  {
   "cell_type": "code",
   "execution_count": 2,
   "id": "f6b91548",
   "metadata": {},
   "outputs": [
    {
     "name": "stdout",
     "output_type": "stream",
     "text": [
      "13720\n"
     ]
    }
   ],
   "source": [
    "puts 20.step(220, 40).map{|i|\n",
    "  xs[i-1] * i\n",
    "}.sum"
   ]
  },
  {
   "cell_type": "markdown",
   "id": "43a987f2",
   "metadata": {},
   "source": [
    "## Part 2\n",
    "\n",
    "ใน part นี้เรารันทั้งหมด 240 cycles แล้วเช็คว่า ค่า x ใน cycle ที่ i นั้น ห่างจาก i ไม่เกิน 1 หรือไม่ ถ้าไม่เกินก็ให้ pixel นั้นแสดงผล\n",
    "\n",
    "เราใช้ mod เพื่อตบค่า x coordinate ให้อยู่ระหว่าง 0 ถึง 39 ซึ่งหมายความว่าเราจะ relabel cycle ซะใหม่ จาก 1-240 เป็น 0-239\n",
    "ทำให้แทนที่จะใช้ค่า `xs[i-1]` เราก็เขียนได้ง่ายขึ้นเป็น `xs[i]` แทน"
   ]
  },
  {
   "cell_type": "code",
   "execution_count": 3,
   "id": "9a9a0ce1",
   "metadata": {},
   "outputs": [
    {
     "name": "stdout",
     "output_type": "stream",
     "text": [
      "████ ███  █  █ ███  █  █ ████  ██  █  █ \n",
      "█    █  █ █  █ █  █ █  █    █ █  █ █  █ \n",
      "███  ███  █  █ █  █ ████   █  █    ████ \n",
      "█    █  █ █  █ ███  █  █  █   █    █  █ \n",
      "█    █  █ █  █ █ █  █  █ █    █  █ █  █ \n",
      "█    ███   ██  █  █ █  █ ████  ██  █  █ \n"
     ]
    }
   ],
   "source": [
    "240.times{|i|\n",
    "  x = i % 40\n",
    "  if (xs[i] - x).abs <= 1\n",
    "    print '█'\n",
    "  else\n",
    "    print ' '\n",
    "  end\n",
    "  puts if x == 39\n",
    "}\n",
    "nil"
   ]
  }
 ],
 "metadata": {
  "kernelspec": {
   "display_name": "Ruby 3.1.3",
   "language": "ruby",
   "name": "ruby"
  },
  "language_info": {
   "file_extension": ".rb",
   "mimetype": "application/x-ruby",
   "name": "ruby",
   "version": "3.1.3"
  }
 },
 "nbformat": 4,
 "nbformat_minor": 5
}
