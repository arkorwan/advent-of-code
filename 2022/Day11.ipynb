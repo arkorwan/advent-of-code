{
 "cells": [
  {
   "cell_type": "markdown",
   "id": "791bbb57",
   "metadata": {},
   "source": [
    "# Day 11\n",
    "\n",
    "link: https://adventofcode.com/2022/day/11"
   ]
  },
  {
   "cell_type": "markdown",
   "id": "f98acc26",
   "metadata": {},
   "source": [
    "ข้อนี้ค่อนข้างซับซ้อนกว่าข้อที่ผ่านๆ มา เราจะมาย่อยโจทย์กันก่อน\n",
    "\n",
    "เราสามารถมองลิงแต่ละตัว เป็น function ที่รับ input เข้ามาเป็น integer แล้วส่ง output เป็น integer และลิงที่จะต้องส่งต่อให้ อาจจะ define signature ได้ว่า `Integer -> (Integer, Monkey)`\n",
    "\n",
    "รายละเอียดของ function จะแตกต่างกันไป แต่โดยรวมแล้วมันมี step เหมือนๆ กัน คือ\n",
    "1. apply operation ซึ่งอาจจะเป็นการบวกหรือการคูณ เข้ากับ input integer\n",
    "2. stress relieve เป็นอีก operation นึง ซึ่งจะลดผลลัพธ์จากข้อ 1 ลงมา\n",
    "3. test ว่าผลจากข้อ 2 หารด้วยจำนวนที่กำหนด (ซึ่งเป็นจำนวนเฉพาะ) ลงตัวหรือไม่\n",
    "4. ถ้าหารลงตัว จะส่งผลจากข้อ 2 ไปให้ลิงตัวหนึ่ง ถ้าหารไม่ลงตัว ก็จะส่งไปให้อีกตัวหนึ่ง\n",
    "\n",
    "โจทย์สนใจว่าในแต่ละรอบ ลิงแต่ละตัว process ของไปกี่ชิ้น\n",
    "ตรงรายละเอียดที่บอกว่า ต้อง process ของตามลำดับ อันนี้เราไม่ต้องสนใจก็ได้\n",
    "ยังไงซะลิงก็จะต้อง process ของทุกชิ้นอยู่ดี ไม่ว่าจะตามลำดับหรือไม่ ได้ผลไม่ต่างกัน\n",
    "ดังนั้นแทนที่จะต้องเก็บ list ของของที่ต้อง process เรา track ของแต่ละชิ้นเลยก็ได้ แล้วนับจบรอบเมื่อของถูกส่งจากลิงที่เลขลำดับสูงกว่าไปยังต่ำกว่า"
   ]
  },
  {
   "cell_type": "code",
   "execution_count": 1,
   "id": "181b6123",
   "metadata": {},
   "outputs": [],
   "source": [
    "class Monkey\n",
    "  attr_accessor  :id, :op, :divisor, :true_target, :false_target, :items_inspected, :relieve\n",
    "\n",
    "  def initialize(id)\n",
    "    @id = id\n",
    "    @items_inspected = 0\n",
    "  end\n",
    "\n",
    "  def exec_once(item)\n",
    "    old = item\n",
    "    item = @relieve.call(@op.call(item))\n",
    "    pass_test = (item % @divisor) == 0\n",
    "    target = pass_test ? @true_target : @false_target\n",
    "    @items_inspected += 1\n",
    "    [item, target]\n",
    "  end\n",
    "\n",
    "end\n",
    "nil"
   ]
  },
  {
   "cell_type": "markdown",
   "id": "299229de",
   "metadata": {},
   "source": [
    "ส่วนของการ parse input มีความยุ่งยากนิดหน่อยตรง operation ซึ่งเราต้องการเก็บเป็น lambda ท่าแรกที่เราลองคือใช้ `eval` ซึ่งก็ใช้ได้ดี\n",
    "แต่ระหว่างทดลองรันเรารู้สึกว่ามันช้าไปหน่อย เลยเปลี่ยนมา parse จากรูปแบบ `operand1 operation operand2` ซึ่งเร็วขึ้นแต่ก็ rigid กว่า\n",
    "ก็ไม่เป็นไร เราไม่ได้ต้องการ flexibility เท่าไหร่\n",
    "\n",
    "สังเกตว่าผลของการ parse เราจะยังไม่ได้ตั้งค่าให้ `:relieve` เพราะว่ามันเป็นรายละเอียดที่ต่างกันของโจทย์แต่ละ part"
   ]
  },
  {
   "cell_type": "code",
   "execution_count": 2,
   "id": "e9b0b16d",
   "metadata": {},
   "outputs": [],
   "source": [
    "input = IO.foreach('data/11.txt').to_a.map(&:strip)\n",
    "\n",
    "def parse_monkeys(input)\n",
    "  monkeys = []\n",
    "  start_items = []\n",
    "  current_monkey = nil\n",
    "  input.each{|line|\n",
    "    if line.start_with?('Monkey')\n",
    "      current_monkey = Monkey.new(line.split(' ')[-1].to_i)\n",
    "      monkeys[current_monkey.id] = current_monkey\n",
    "    elsif line.strip.start_with?('Starting items')\n",
    "      start_items[current_monkey.id] = line.strip.split(':')[1].split(',').map(&:to_i)\n",
    "    else\n",
    "      cmd, args = line.split(':')\n",
    "      case cmd\n",
    "      when 'Operation'\n",
    "        arg1, op, arg2 = args.split('=')[1].split(' ')\n",
    "        current_monkey.op = ->(x){\n",
    "          a = arg1 == 'old' ? x : arg1.to_i\n",
    "          b = arg2 == 'old' ? x : arg2.to_i\n",
    "          a.send(op.to_sym, b)\n",
    "        }\n",
    "      when 'Test'\n",
    "        if args.start_with?(' divisible by')\n",
    "          current_monkey.divisor = args.split(' ')[-1].to_i\n",
    "        end\n",
    "      when 'If true'\n",
    "        current_monkey.true_target = args.split(' ')[-1].to_i\n",
    "      when 'If false'\n",
    "        current_monkey.false_target = args.split(' ')[-1].to_i\n",
    "      end\n",
    "    end\n",
    "  }\n",
    "  [monkeys, start_items]\n",
    "end\n",
    "nil"
   ]
  },
  {
   "cell_type": "markdown",
   "id": "8ce6b9fa",
   "metadata": {},
   "source": [
    "## Part 1\n",
    "\n",
    "part แรกนี่ตรงไปตรงมา พอ parse ลิงเสร็จก็เหลือแค่ตั้ง relieve เป็น `x -> x/3` แล้ว simulate ไป 20 รอบ"
   ]
  },
  {
   "cell_type": "code",
   "execution_count": 3,
   "id": "8346d175",
   "metadata": {},
   "outputs": [
    {
     "name": "stdout",
     "output_type": "stream",
     "text": [
      "58794\n"
     ]
    }
   ],
   "source": [
    "def simulate(monkeys, start_items, rounds)\n",
    "  start_items.size.times{|i|\n",
    "    start_items[i].each{|item|\n",
    "      m = i\n",
    "      round = 0\n",
    "      while round < rounds\n",
    "        item, new_m = monkeys[m].exec_once(item)\n",
    "        round += 1 if new_m < m\n",
    "        m = new_m\n",
    "      end\n",
    "    }\n",
    "  }\n",
    "end\n",
    "\n",
    "monkeys, start_items = parse_monkeys(input)\n",
    "relieve = ->(x){x / 3}\n",
    "monkeys.each{|monkey| monkey.relieve = relieve}\n",
    "simulate(monkeys, start_items, 20)\n",
    "\n",
    "v1, v2 = monkeys.map(&:items_inspected).sort[-2..-1]\n",
    "puts v1 * v2"
   ]
  },
  {
   "cell_type": "markdown",
   "id": "1f2a7ab8",
   "metadata": {},
   "source": [
    "## Part 2\n",
    "\n",
    "part นี้ เป็นโจทย์แรกของปีนี้ที่ไม่บอกรายละเอียดทั้งหมด แต่ให้เราลองเดาเอาจากตัวอย่าง\n",
    "\n",
    "โจทย์บอกว่าเราจะเปลี่ยนวิธี relieve แต่ไม่บอกว่าเปลี่ยนเป็นอะไร แค่ใบ้ๆ ว่า ถ้าไม่มี relieve แล้ว\n",
    "worry level มันจะพุ่งนะ\n",
    "\n",
    "ซึ่ง... เราก็ไม่ได้สนใจ hint ตรงนี้ทีแรก ก็เลยไปลองตั้ง relieve ให้เป็นการลบด้วย constant\n",
    "ซึ่งก็สามารถหา constant ที่ทำให้ result ตรงกับตัวอย่างใน 20 รอบแรกได้อยู่\n",
    "แต่พอจะลองที่ 1000 รอบ ปรากฏว่า mem ไม่พอ \n",
    "\n",
    "ตอนแรกเราก็นึกว่ามีปัญหาที่ `eval` หรือ lambda หรือเปล่า แต่เมื่อ debug ดูก็พบว่า ตัวเลขมันใหญ่จริงๆ จนเกิน memory limit!\n",
    "อันนี้ก็ทำให้กลับมาตั้งใจดู hint (ที่จริงการที่มัน out of memory ก็เป็น hint อย่างนึงเหมือนกัน)\n",
    "เราต้องหาวิธีที่ทำให้ตัวเลขมันไม่ใหญ่เกินไป ซึ่งการลบอย่างเดียวอาจจะลดได้น้อยเกินไป\n",
    "\n",
    "แน่นอนว่าก็ต้องใช้ modular arithmetic มาช่วย สังเกตดูว่า operation ที่ใช้ทั้งหมด ใช้ operator แค่ บวก ลบ คูณ และ เช็คว่าหารลงตัวหรือไม่\n",
    "(ไม่นับ floor division ด้วย 3 จาก Part แรก) ซึ่งทั้งหมดนี้เป็น operation ที่ยังทำงานได้เหมือนเดิมใน (mod m)\n",
    "ถ้าให้ m = Product of all test divisors\n",
    "\n",
    "ถึงตรงนี้เราเลยเปลี่ยน relieve เป็น `x -> (x - k) % m` แล้วลองหา k ที่ให้ผลลัพธ์ตรงกับตัวอย่าง\n",
    "ก็ไปเจอคำตอบที่ k = m ... ซึ่งใน (mod m) มันคือ k = 0 นั่นเอง\n",
    "\n",
    "สรุปว่า relieve จริงๆ มันคือ `x -> x % m` แค่นี้เอง หาอยู่ตั้งนาน ปัดโธ่"
   ]
  },
  {
   "cell_type": "code",
   "execution_count": 4,
   "id": "6e576845",
   "metadata": {},
   "outputs": [
    {
     "name": "stdout",
     "output_type": "stream",
     "text": [
      "20151213744\n"
     ]
    }
   ],
   "source": [
    "monkeys, start_items = parse_monkeys(input)\n",
    "m = monkeys.map(&:divisor).reduce(:*)\n",
    "relieve = ->(x){x % m}\n",
    "monkeys.each{|monkey| monkey.relieve = relieve}\n",
    "simulate(monkeys, start_items, 10000)\n",
    "\n",
    "v1, v2 = monkeys.map(&:items_inspected).sort[-2..-1]\n",
    "puts v1 * v2"
   ]
  }
 ],
 "metadata": {
  "kernelspec": {
   "display_name": "Ruby 3.1.3",
   "language": "ruby",
   "name": "ruby"
  },
  "language_info": {
   "file_extension": ".rb",
   "mimetype": "application/x-ruby",
   "name": "ruby",
   "version": "3.1.3"
  }
 },
 "nbformat": 4,
 "nbformat_minor": 5
}
