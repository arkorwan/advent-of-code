{
 "cells": [
  {
   "cell_type": "markdown",
   "id": "f7e47d35",
   "metadata": {},
   "source": [
    "# Day 18\n",
    "\n",
    "link: https://adventofcode.com/2022/day/18"
   ]
  },
  {
   "cell_type": "markdown",
   "id": "f6120ff0",
   "metadata": {},
   "source": [
    "เราเก็บ coordinate ของแต่ละหยดลาวา โดยเก็บลง Set เพราะเดี๋ยวจะต้องทำ membership test"
   ]
  },
  {
   "cell_type": "code",
   "execution_count": 1,
   "id": "87f77175",
   "metadata": {},
   "outputs": [],
   "source": [
    "input = IO.foreach('data/18.txt').to_a.map(&:strip)\n",
    "\n",
    "cubes = input.map{|line| line.split(',').map(&:to_i)}.to_set\n",
    "nil"
   ]
  },
  {
   "cell_type": "markdown",
   "id": "1942e5d7",
   "metadata": {},
   "source": [
    "## Part 1\n",
    "\n",
    "ใน part นี้เราตีความให้ coordinate grid อยู่ที่มุมของลาวา \n",
    "หมายความว่า ถ้าโจทย์บอกว่าลาวาอยู่ที่ตำแหน่ง (x, y, z) เราจะตีความว่าลาวานี้อยู่ใน cube ที่อยู่ระหว่าง (x, y, z) ถึง (x+1, y+1, z+1)\n",
    "ตามรูปนี้ (ให้ chatGPT ช่วยวาดให้)\n",
    "\n",
    "```\n",
    "(x,y+1,z+1)+--------+ (x+1,y+1,z+1)\n",
    "          /        /|\n",
    "         /        / |\n",
    "        /        /  |\n",
    "       +--------+   |\n",
    "       |        |   + (x+1,y+1,z)\n",
    "       |        |  /\n",
    "       |        | /\n",
    "       |        |/\n",
    "       +--------+\n",
    "  (x,y,z)      (x+1,y,z)\n",
    "```\n",
    "\n",
    "วิธีการของข้อนี้คือเราจะดูไปทีละ plane สมมติเริ่มจาก XY plane ก่อน ลาวาที่ตำแหน่ง (x, y, z) จะสร้าง 2 surfaces คือสี่เหลี่ยม (x, y), (x+1, y), (x, y+1), (x+1, y+1) ที่ตำแหน่งในแกน Z ที่ z และ z+1 ซึ่งเราสามารถ encode ด้วย (x, y, z) และ (x, y, z+1)\n",
    "\n",
    "สังเกตว่า แต่ละ surface อาจจะสัมผัสกับลาวา 1 หรือ 2 ก้อนเท่านั้น เราต้องการนับเฉพาะ surface ที่สัมผัสกับ 1 ก้อน ... เรารู้ว่าจากลาวา C ก้อน จะมีทั้งหมด 2C surfaces (เฉพาะใน XY plane) จากนั้นเราก็นับจำนวน D = distinct surfaces ส่วนต่างของสองจำนวนนี้ (2C-D) ก็คือจำนวนของ surface ที่สัมผัสลาวา 2 ก้อน ดังนั้นจำนวน surface ที่สัมผัสลาวา 1 ก้อน ก็คือ 2C - 2(2C-D) = 2D-2C\n",
    "\n",
    "เราทำแบบเดียวกันนี้กับ XZ plane และ YZ plane ก็จะได้จำนวน surface ที่ต้องการ"
   ]
  },
  {
   "cell_type": "code",
   "execution_count": 2,
   "id": "8892053f",
   "metadata": {},
   "outputs": [
    {
     "name": "stdout",
     "output_type": "stream",
     "text": [
      "3650\n"
     ]
    }
   ],
   "source": [
    "x_planes = cubes.flat_map{|x, y, z| [[x, y, z], [x+1, y, z]]}.uniq\n",
    "y_planes = cubes.flat_map{|x, y, z| [[x, y, z], [x, y+1, z]]}.uniq\n",
    "z_planes = cubes.flat_map{|x, y, z| [[x, y, z], [x, y, z+1]]}.uniq\n",
    "\n",
    "puts 2 * (x_planes.size + y_planes.size + z_planes.size) - 6 * cubes.size"
   ]
  },
  {
   "cell_type": "markdown",
   "id": "14e72e63",
   "metadata": {},
   "source": [
    "## Part 2\n",
    "\n",
    "part หลังนี้เราใช้ flood fill ใน 3 มิติ จากแต่ละ cell น้ำจะสามารถไหลไปได้ 6 ทิศทาง เราก็จะเช็คว่าปลายทางจะต้องไม่ใช่ตำแหน่งที่มีลาวาอยู่จึงจะไหลไปได้\n",
    "สังเกตว่าทุกครั้งที่เจอลาวา ก็คือจำนวน surface ที่เราต้องการนั่นเอง"
   ]
  },
  {
   "cell_type": "code",
   "execution_count": 3,
   "id": "6ef0ca7f",
   "metadata": {},
   "outputs": [
    {
     "name": "stdout",
     "output_type": "stream",
     "text": [
      "2118\n"
     ]
    }
   ],
   "source": [
    "x_min = cubes.map{|x, y, z| x}.min - 1\n",
    "x_max = cubes.map{|x, y, z| x}.max + 1\n",
    "y_min = cubes.map{|x, y, z| y}.min - 1\n",
    "y_max = cubes.map{|x, y, z| y}.max + 1\n",
    "z_min = cubes.map{|x, y, z| z}.min - 1\n",
    "z_max = cubes.map{|x, y, z| z}.max + 1\n",
    "\n",
    "\n",
    "x_size = x_max - x_min + 1\n",
    "y_size = y_max - y_min + 1\n",
    "z_size = z_max - z_min + 1\n",
    "\n",
    "a = Array.new(x_size){ Array.new(y_size) {Array.new(z_size, false)}}\n",
    "a[0][0][0] = true\n",
    "q = [[0, 0, 0]]\n",
    "surface = 0\n",
    "until q.empty?\n",
    "  x, y, z = q.pop\n",
    "  nexts = [[x-1, y, z], [x+1, y, z], [x, y-1, z], [x, y+1, z], [x, y, z-1], [x, y, z+1]]\n",
    "  nexts.each{|i, j, k|\n",
    "    next if i < 0 || j < 0 || k < 0 || i >= x_size || j >= y_size || k >= z_size || a[i][j][k]\n",
    "    if cubes.include?([i + x_min, j + y_min, k + z_min])\n",
    "      surface += 1\n",
    "    else\n",
    "      q.unshift([i, j, k])\n",
    "      a[i][j][k] = true\n",
    "    end\n",
    "  }\n",
    "end\n",
    "\n",
    "puts surface"
   ]
  }
 ],
 "metadata": {
  "kernelspec": {
   "display_name": "Ruby 3.1.3",
   "language": "ruby",
   "name": "ruby"
  },
  "language_info": {
   "file_extension": ".rb",
   "mimetype": "application/x-ruby",
   "name": "ruby",
   "version": "3.1.3"
  }
 },
 "nbformat": 4,
 "nbformat_minor": 5
}
