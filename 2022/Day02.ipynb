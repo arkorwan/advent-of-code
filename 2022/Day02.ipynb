{
 "cells": [
  {
   "cell_type": "markdown",
   "id": "7b256c34",
   "metadata": {},
   "source": [
    "# Day 2\n",
    "\n",
    "link: https://adventofcode.com/2022/day/2"
   ]
  },
  {
   "cell_type": "markdown",
   "id": "a9a63d3f",
   "metadata": {},
   "source": [
    "ข้อนี้เราต้อง simulate เกมเป่ายิ้งฉุบ ในส่วน input เพื่อให้ง่ายต่อการคำนวณ เราก็จะแปลงตัวอักษร A, B, C เป็นตัวเลข 0, 1, 2. วิธีแปลงก็แค่หา index ของ character ที่ได้มาจาก string 'ABC'. ส่วน X, Y, Z เราก็แปลงเป็น 0, 1, 2 ด้ววิธีเดียวกัน "
   ]
  },
  {
   "cell_type": "code",
   "execution_count": 1,
   "id": "cd6327af",
   "metadata": {},
   "outputs": [],
   "source": [
    "input = IO.foreach('in02.txt').to_a.map(&:strip)\n",
    "\n",
    "hands = input.map{|line| [\"ABC\".index(line[0]), \"XYZ\".index(line[2])] }\n",
    "\n",
    "nil"
   ]
  },
  {
   "cell_type": "markdown",
   "id": "20720f63",
   "metadata": {},
   "source": [
    "## Part 1\n",
    "\n",
    "โจทย์ให้เราหาคะแนนรวม โดยที่คะแนนมาจาก 2 ส่วน คือจากหน้าที่เราออก และจากผลเป่ายิ้งฉุบ โดยที่ A/X คือค้อน B/Y คือกระดาษ C/Z คือกรรไกร\n",
    "\n",
    "เราใช้ x แทนคะแนน 0, 1, 2 ของฝั่งซ้าย และ y แทนของฝั่งขวา\n",
    "\n",
    "ส่วนแรก เราจะได้คะแนน 1 คะแนนถ้าออก X, 2 คะแนนถ้าออก Y, 3 คะแนนถ้าออก Z อันนี้ง่ายมาก: y + 1\n",
    "\n",
    "ส่วนที่สองมาจากผลการแข่งขัน ส่วนนี้เราฝั่งซ้ายและขวามาลบกันใน (mod 3). แปลผลได้ว่า 0 คือเสมอ 1 คือขวาชนะ 2 คือซ้ายชนะ เอาผลนี้ไปแปลงเป็นคะแนน 0/3/6 อีกที ก็จะได้คะแนนส่วนที่สอง"
   ]
  },
  {
   "cell_type": "code",
   "execution_count": 2,
   "id": "e9ec134e",
   "metadata": {},
   "outputs": [
    {
     "name": "stdout",
     "output_type": "stream",
     "text": [
      "11873\n"
     ]
    }
   ],
   "source": [
    "puts hands.map{|x, y|\n",
    "  selection_score = y + 1\n",
    "  outcome_score = [3, 6, 0][(y - x) % 3]\n",
    "  selection_score + outcome_score\n",
    "}.sum"
   ]
  },
  {
   "cell_type": "markdown",
   "id": "c2fcaa51",
   "metadata": {},
   "source": [
    "## Part 2\n",
    "\n",
    "โจทย์ครึ่งหลังถามเหมือนเดิม แต่ให้ตีความ X, Y, Z เป็น แพ้, เสมอ, ชนะ (ของฝั่งขวา) แทน\n",
    "\n",
    "คะแนนส่วนผลการแข่งขันก็คิดได้ง่ายๆ เลย: y * 3\n",
    "\n",
    "คะแนนอีกส่วน เราต้องหาว่าต้องออกหน้าไหน ถ้าต้องแพ้ ก็ต้องออก x-1 ถ้าเสมอต้องออก x ถ้าชนะต้องออก x+1 คำนวณได้ด้วย x+y-1 (mod 3)"
   ]
  },
  {
   "cell_type": "code",
   "execution_count": 3,
   "id": "e30ca571",
   "metadata": {},
   "outputs": [
    {
     "name": "stdout",
     "output_type": "stream",
     "text": [
      "12014\n"
     ]
    }
   ],
   "source": [
    "puts hands.map{|x, y|\n",
    "  selection_score = (x + y - 1) % 3 + 1\n",
    "  outcome_score = y * 3\n",
    "  selection_score + outcome_score\n",
    "}.sum"
   ]
  }
 ],
 "metadata": {
  "kernelspec": {
   "display_name": "Ruby 3.1.3",
   "language": "ruby",
   "name": "ruby"
  },
  "language_info": {
   "file_extension": ".rb",
   "mimetype": "application/x-ruby",
   "name": "ruby",
   "version": "3.1.3"
  }
 },
 "nbformat": 4,
 "nbformat_minor": 5
}
