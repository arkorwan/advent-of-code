{
 "cells": [
  {
   "cell_type": "markdown",
   "id": "e9bc5018",
   "metadata": {},
   "source": [
    "# Day 7\n",
    "\n",
    "link: https://adventofcode.com/2022/day/7"
   ]
  },
  {
   "cell_type": "markdown",
   "id": "dded8e09",
   "metadata": {},
   "source": [
    "ข้อนี้เป็นการจำลอง File System เราเลยสร้าง `class Dir` ขึ้นมา"
   ]
  },
  {
   "cell_type": "code",
   "execution_count": 1,
   "id": "12c5c642",
   "metadata": {},
   "outputs": [],
   "source": [
    "class Dir\n",
    "\n",
    "  attr_accessor  :name, :size, :subdirs, :parent\n",
    "\n",
    "  def initialize(name)\n",
    "    @name = name\n",
    "    @size = 0\n",
    "    @subdirs = []\n",
    "  end\n",
    "\n",
    "  def add_subdir(sd)\n",
    "    @subdirs << sd\n",
    "    sd.parent = self\n",
    "  end\n",
    "\n",
    "  def update_size(diff)\n",
    "    @size += diff\n",
    "    @parent.update_size(diff) if @parent\n",
    "  end\n",
    "\n",
    "end\n",
    "\n",
    "nil"
   ]
  },
  {
   "cell_type": "markdown",
   "id": "0ce432b6",
   "metadata": {},
   "source": [
    "โจทย์สนใจแค่ขนาดของ directory ไม่ได้สนใจไฟล์ เพราะฉะนั้นเราไม่จำเป็นต้องจำลอง File ขึ้นมาจริงๆ เก็บแค่ขนาดของ directory ก็พอ สังเกตว่าเมื่อ `update_size` แล้ว เราต้องเพิ่มขนาดให้ทุกๆ parent folder ขึ้นไปจนถึง root ด้วย\n",
    "\n",
    "จากนั้นเรา process input เพื่อสร้าง directory structure ขึ้นมา"
   ]
  },
  {
   "cell_type": "code",
   "execution_count": 2,
   "id": "17920c17",
   "metadata": {},
   "outputs": [],
   "source": [
    "input = IO.read('data/07.txt')\n",
    "\n",
    "root = Dir.new('/')\n",
    "cd = root\n",
    "commands = input.split(\"$ \")[1..-1]\n",
    "commands.each{|cmd|\n",
    "  lines = cmd.split(\"\\n\")\n",
    "  cmd_args = lines[0].split(' ')\n",
    "  \n",
    "  if cmd_args[0] == 'cd'\n",
    "    case cmd_args[1]\n",
    "    when '/'\n",
    "      cd = root\n",
    "    when '..'\n",
    "      cd = cd.parent\n",
    "    else\n",
    "      cd = cd.subdirs.find{|sd| sd.name == cmd_args[1]}\n",
    "    end\n",
    "  end\n",
    "\n",
    "  if cmd_args[0] == 'ls'\n",
    "    lines[1..-1].each{|res|\n",
    "      t,n = res.split(' ')\n",
    "      if t == 'dir'\n",
    "        cd.add_subdir(Dir.new(n))\n",
    "      else\n",
    "        cd.update_size(t.to_i)\n",
    "      end\n",
    "    }\n",
    "  end\n",
    "}\n",
    "nil"
   ]
  },
  {
   "cell_type": "markdown",
   "id": "78f427ec",
   "metadata": {},
   "source": [
    "## Part 1\n",
    "\n",
    "โจทย์แรกคือให้หา directory ทั้งหมดที่ขนาดไม่เกิน 100000 \n",
    "\n",
    "เราก็ traverse tree ซะรอบนึงเพื่อเก็บ directory ทั้งหมดลง array (ตรงนี้เอาไว้ใช้ต่อใน part 2 ด้วย ไม่งั้นเราคำนวณ size รวมจากใน method `visit` เลยก็ได้) แล้วก็ filter เอา directory ที่ต้องการออกมาได้ง่ายๆ"
   ]
  },
  {
   "cell_type": "code",
   "execution_count": 3,
   "id": "7f274d56",
   "metadata": {},
   "outputs": [
    {
     "name": "stdout",
     "output_type": "stream",
     "text": [
      "1915606\n"
     ]
    }
   ],
   "source": [
    "def visit(dir, acc)\n",
    "  acc << dir\n",
    "  dir.subdirs.each{|sd| visit(sd, acc)}\n",
    "end\n",
    "\n",
    "all_dirs = []\n",
    "visit(root, all_dirs)\n",
    "\n",
    "puts all_dirs.map(&:size).select{|d| d <= 100000}.sum"
   ]
  },
  {
   "cell_type": "markdown",
   "id": "e0291bec",
   "metadata": {},
   "source": [
    "## Part 2\n",
    "\n",
    "โจทย์ครึ่งหลังให้เราเลือก directory ที่เล็กที่สุด ที่ยังใหญ่พอให้เมื่อลบแล้วยังเหลือขนาดที่ต้องการ\n",
    "\n",
    "ก่อนอื่นเราก็คำนวณขนาดขั้นต่ำที่ต้องการก่อน จากนั้นก็ filter จาก directory array ของ part แรก เอาเฉพาะ directory ที่ใหญ่พอ แล้วเลือกตัวที่เล็กที่สุด"
   ]
  },
  {
   "cell_type": "code",
   "execution_count": 4,
   "id": "87ca27e4",
   "metadata": {},
   "outputs": [
    {
     "name": "stdout",
     "output_type": "stream",
     "text": [
      "5025657\n"
     ]
    }
   ],
   "source": [
    "need = root.size - 40000000\n",
    "puts all_dirs.map(&:size).select{|d| d >= need}.min"
   ]
  }
 ],
 "metadata": {
  "kernelspec": {
   "display_name": "Ruby 3.1.3",
   "language": "ruby",
   "name": "ruby"
  },
  "language_info": {
   "file_extension": ".rb",
   "mimetype": "application/x-ruby",
   "name": "ruby",
   "version": "3.1.3"
  }
 },
 "nbformat": 4,
 "nbformat_minor": 5
}
