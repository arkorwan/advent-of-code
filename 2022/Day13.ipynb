{
 "cells": [
  {
   "cell_type": "markdown",
   "id": "9161e690",
   "metadata": {},
   "source": [
    "# Day 13\n",
    "\n",
    "link: https://adventofcode.com/2022/day/13"
   ]
  },
  {
   "cell_type": "markdown",
   "id": "eb408690",
   "metadata": {},
   "source": [
    "input ของข้อนี้เป็น nested list of integers ซึ่งจะ nested กี่ชั้นก็ได้ \n",
    "โชคดีที่ format ของ input มันเหมือนกับ ruby code อยู่แล้ว ดังนั้นเราโกงด้วยการให้มัน `eval` ออกมาซะเลย"
   ]
  },
  {
   "cell_type": "code",
   "execution_count": 1,
   "id": "2bbc463a",
   "metadata": {},
   "outputs": [],
   "source": [
    "input = IO.foreach('data/13.txt').to_a\n",
    "packets = input.each_slice(3).map{|rows|\n",
    "  [eval(rows[0]), eval(rows[1])]\n",
    "}\n",
    "nil"
   ]
  },
  {
   "cell_type": "markdown",
   "id": "3aabbba2",
   "metadata": {},
   "source": [
    "## Part 1\n",
    "\n",
    "key ของข้อนี้คือเราต้องสามารถเปรียบเทียบ packet ได้ เราเขียน method `cmp` เพื่อเปรียบเทียบแบบ recursive\n",
    "1. ถ้าของที่จะเทียบเป็นตัวเลขทั้งคู่ ก็เทียบตัวเลขกันตรงๆ\n",
    "2. ถ้าไม่ใช่ ก่อนอื่นก็ lift ข้างที่เป็นตัวเลข (ถ้ามี) ขึ้นมาเป็น list ให้เหมือนกัน\n",
    "3. จากนั้นเราวนเปรียบเทียบทีละ element ถ้าเจอของที่ไม่เท่ากัน ก็ return ได้ทันที ถ้าเท่ากัน ก็เลื่อนไป element ถัดไป\n",
    "4. ถ้ารันจนหมด list ข้างใดข้างหนึ่ง ถ้าข้างไหนยังมีของเหลือ ข้างนั้นมากกว่า ถ้าหมดพร้อมกันก็ตอบว่าเท่ากัน"
   ]
  },
  {
   "cell_type": "code",
   "execution_count": 2,
   "id": "fdc82c37",
   "metadata": {},
   "outputs": [
    {
     "name": "stdout",
     "output_type": "stream",
     "text": [
      "6101\n"
     ]
    }
   ],
   "source": [
    "def cmp(a, b)\n",
    "  if a.instance_of?(Fixnum) && b.instance_of?(Fixnum)\n",
    "    a <=> b\n",
    "  else\n",
    "    a = [a] if a.instance_of?(Fixnum)\n",
    "    b = [b] if b.instance_of?(Fixnum)\n",
    "    \n",
    "    i = 0\n",
    "    while a[i] && b[i]\n",
    "      v = cmp(a[i], b[i])\n",
    "      return v if v != 0\n",
    "      i += 1\n",
    "    end\n",
    "\n",
    "    if a[i]\n",
    "      1\n",
    "    elsif b[i]\n",
    "      -1\n",
    "    else\n",
    "      0\n",
    "    end\n",
    "  end\n",
    "end\n",
    "\n",
    "puts packets.each_with_index.map{|r, i|\n",
    "  cmp(r[0], r[1]) == -1 ? i + 1 : 0\n",
    "}.sum"
   ]
  },
  {
   "cell_type": "markdown",
   "id": "3e34d3a1",
   "metadata": {},
   "source": [
    "## Part 2\n",
    "\n",
    "ท่าแรกที่เราทำคือ เรา sort packets ทั้งหมด รวมถึง key ด้วย แล้วหาตำแหน่งของ key ใน sorted list ซึ่งเราสามารถ pass `cmp` เข้าไปเป็น sort comparaะtor ได้เลย\n",
    "\n",
    "แต่ที่จริงเราทำได้ง่ายกว่านั้น คือเราแค่อยากรู้ตำแหน่งของ key ก็ไม่จำเป็นต้อง sort ทั้ง list ก็ได้ แค่เอา key ไปเทียบกับ packets ทั้งหมด แล้วนับว่ามีตัวที่น้อยกว่า key อยู่กี่ตัว นั่นก็คือตำแหน่งของ key ใน sorted list แล้ว"
   ]
  },
  {
   "cell_type": "code",
   "execution_count": 3,
   "id": "5557a2fe",
   "metadata": {},
   "outputs": [
    {
     "name": "stdout",
     "output_type": "stream",
     "text": [
      "21909\n"
     ]
    }
   ],
   "source": [
    "key1 = [[2]]\n",
    "key2 = [[6]]\n",
    "\n",
    "all_packets = packets.flat_map{|x, y| [x, y]}\n",
    "id1 = all_packets.count{|x| cmp(x, key1) == -1} + 1\n",
    "id2 = all_packets.count{|x| cmp(x, key2) == -1} + 2\n",
    "puts id1 * id2"
   ]
  }
 ],
 "metadata": {
  "kernelspec": {
   "display_name": "Ruby 3.1.3",
   "language": "ruby",
   "name": "ruby"
  },
  "language_info": {
   "file_extension": ".rb",
   "mimetype": "application/x-ruby",
   "name": "ruby",
   "version": "3.1.3"
  }
 },
 "nbformat": 4,
 "nbformat_minor": 5
}
