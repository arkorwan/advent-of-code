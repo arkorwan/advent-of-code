{
 "cells": [
  {
   "cell_type": "markdown",
   "id": "a2fe291b",
   "metadata": {},
   "source": [
    "# Day 20\n",
    "\n",
    "link: https://adventofcode.com/2022/day/20"
   ]
  },
  {
   "cell_type": "markdown",
   "id": "1bf8530e",
   "metadata": {},
   "source": [
    "ข้อนี้เราแหกกฎ เปลี่ยนจาก ruby ไปใช้งาน scala เป็นการชั่วคราว สาเหตุเดี๋ยวค่อยว่ากัน\n",
    "\n",
    "แต่ก่อนอื่น เราอ่าน input ทั้งหมดเก็บเอาไว้ใน List นอกจากนั้นเรายังแปะ index ให้แต่ละตัวเลข เพื่อให้เป็น unique id\n",
    "ให้เรา track ได้ในกรณีที่มีตัวเลขซ้ำกันใน input"
   ]
  },
  {
   "cell_type": "code",
   "execution_count": 1,
   "id": "4462e02b",
   "metadata": {},
   "outputs": [],
   "source": [
    "kernel.silent(true)"
   ]
  },
  {
   "cell_type": "code",
   "execution_count": 2,
   "id": "c2e59610",
   "metadata": {},
   "outputs": [],
   "source": [
    "val input = scala.io.Source.fromFile(\"in20.txt\").getLines.map(_.toLong).zipWithIndex.toList"
   ]
  },
  {
   "cell_type": "markdown",
   "id": "7f12a8fc",
   "metadata": {},
   "source": [
    "เราจะใช้วิธี simulate การขยับเปลี่ยนตำแหน่งของตัวเลขอย่างตรงไปตรงมา คือเราจะใส่ input ทั้งหมดลงอีก list อีกอันนึง\n",
    "แล้วทำตามขั้นตอนต่อไปนี้สำหรับแต่ละ item ใน input list:\n",
    "- หา index ของ item นี้\n",
    "- ลบ item นี้ออกจาก list\n",
    "- คำนวณ index ใหม่ แล้วใส่ item กลับลงไปใน list ที่ index นั้น\n",
    "\n",
    "และหลังจากทำเสร็จทุก item แล้ว\n",
    "- หา index ของ item 0\n",
    "- หา Item ที่อยู่ในตำแหน่งที่ 1000, 2000 และ 3000\n",
    "\n",
    "คำถามก็คือ เราจะใช้ data structure อะไรจึงจะรองรับ operation เหล่านี้ได้ดี ลองสรุป operation ที่ต้องการอีกที\n",
    "1. find index by item\n",
    "2. find item by index\n",
    "3. remove item\n",
    "4. insert item at index\n",
    "\n",
    "เราทำทุก operation ได้ภายใน O(n) แน่ๆ แต่เราจะตั้ง target ให้เร็วกว่านั้น ตั้งไว้ที่ O(log n) ซึ่งก็น่าจะต้องเป็น tree-based structure ซักอย่าง\n",
    "\n",
    "ลองเริ่มจาก self-balancing binary search tree ... สังเกตว่าขนาดของ left child จะเท่ากับ index ถ้าเราใช้สิ่งนี้เป็น key ของ tree ได้\n",
    "ก็จะ navigate tree ด้วย index ได้ใน O(log n) ซึ่งก็จะทำให้สามารถทำ operation (2) และ (4) ได้\n",
    "นอกจากนี้ถ้าเราก็ไม่ต้องมาตาม update index หลังจาก remove item ออกด้วย\n",
    "\n",
    "แต่เราจำเป็นจะต้องทำ item-based operations ในข้อ 1 และ 3 ให้ได้ด้วย วิธีแก้ของเราก็คือ\n",
    "สร้าง HashMap ขึ้นมาอีกอันนึง ให้ key เป็น item และ value เป็น index\n",
    "อันนี้ก็ตอบโจทย์การ lookup ในข้อ (1) และยังเอา index ที่ได้ไปใช้ remove item ในข้อ (3) ได้ด้วย \n",
    "แต่ว่าทุกครั้งที่เรา insert หรือ remove จะทำให้ index มันเลื่อน ถึงเราจะไม่ต้องตามแก้ index ใน tree\n",
    "แต่พอ HashMap มันเก็บ index ก็กลายเป็นว่าเราต้องไปตามแก้ index ใน HashMap เสียเวลาเป็น O(n) อยู่ดี\n",
    "\n",
    "ดังนั้นมันยังไม่เวิร์ก\n",
    "\n",
    "เราแก้อีกชั้นนึงด้วยการไม่ใช้ index เป็น key ของ tree ตรงๆ แต่เอาไปผูกกับเลขอีกชุดนึง (เป็น Double) แทน\n",
    "โดยเราจะการันตีว่า operation ต่างๆ ของ tree จะไม่ทำให้ลำดับของ key เปลี่ยนไป\n",
    "- เราให้ item แรกสุดใน tree มี key เป็น 0.0 \n",
    "- ตอน insert ของลง tree ให้ key ของ item ใหม่นี้มีค่าอยู่ตรงกลางระหว่าง item ที่ประกบซ้ายขวา\n",
    "- ในกรณีที่ insert เข้าไปที่ตำแหน่งหน้าสุดหรือท้ายสุด ก็ให้ key เป็น (fisrt item's key - 1) กับ (last item's key + 1) \n",
    "- ตอน remove ของออกจาก tree ไม่ต้องทำอะไรเป็นพิเศษ\n",
    "\n",
    "ด้วยวิธีนี้ เรายังทำ Operation (2) กับ (4) โดยใช้ index จริงๆ อยู่ และก็ใช้ key ใหม่นี้ทำ operation (1) กับ (3)\n",
    "ภายใน O(log n) ทั้งหมด\n",
    "\n",
    "ในส่วนของ implementation เรารู้สึกว่า data structure นี้น่าจะมีโอกาสได้ใช้งานอีก น่าจะทำให้มันดีๆ หน่อยเลยดีกว่า\n",
    "ก็เลยไปทำใน scala project ที่เอาไว้ทำ Project Euler\n",
    "ตรงนี้ก็มีปัญหาอีกเล็กน้อยเพราะ self-balancing tree ใน scala ที่มากับ standard lib\n",
    "มันมีแค่ `mutable.RedBlackTree` ซึ่งถูกซ่อนไว้เป็น private เหมือนเค้าทำมาแบ็ค TreeMap / TreeSet เฉยๆ เลยไม่ expose ออกมาเป็น public\n",
    "นอกจากนั้น method `size()` ของแต่ละ Node ใน `RedBlackTree` ก็เขียนไว้เป็น O(n) เพราะเค้าไม่ได้ใช้งานจริง เหมือนเขียนไว้ test เฉยๆ\n",
    "เราก็เลยต้องก็อปโค้ดจาก standard lib มาแก้เองให้มันทำ `size()` ได้ใน O(log n) \n",
    "\n",
    "รายละเอียดของ RedBlackTree เราจะข้ามไม่อธิบายละ ขอ import มาใช้เลยละกัน"
   ]
  },
  {
   "cell_type": "code",
   "execution_count": 3,
   "id": "aa2f9c0d",
   "metadata": {},
   "outputs": [],
   "source": [
    "import $cp.`RBTree.jar`\n",
    "\n",
    "import io.github.arkorwan.structure.RBTree\n",
    "import scala.collection.mutable\n",
    "\n",
    "class BSTIndexedSet[E] {\n",
    "\n",
    "  private val keyMap = new mutable.HashMap[E, Double]()\n",
    "  private val rbTree = new RBTree.Tree[Double, E](null)\n",
    "\n",
    "  private def insertInternal(value: E, weight: Double) = {\n",
    "    RBTree.insert(rbTree, weight, value)\n",
    "    keyMap.put(value, weight)\n",
    "    true\n",
    "  }\n",
    "\n",
    "  def append(value: E): Boolean = insert(value, size)\n",
    "\n",
    "  def insert(value: E, index: Int): Boolean = {\n",
    "    require(0 <= index && index <= size)\n",
    "    if (keyMap.contains(value)) {\n",
    "      false\n",
    "    } else if (size == 0) {\n",
    "      insertInternal(value, 0.0)\n",
    "    } else if (index == size) {\n",
    "      val leftNode = RBTree.getNodeAtIndex(rbTree.root, index - 1)\n",
    "      val leftWeight = keyMap(leftNode.value)\n",
    "      insertInternal(value, leftWeight + 1.0)\n",
    "    } else if (index == 0) {\n",
    "      val rightNode = RBTree.getNodeAtIndex(rbTree.root, 0)\n",
    "      val rightWeight = keyMap(rightNode.value)\n",
    "      insertInternal(value, rightWeight - 1.0)\n",
    "    } else {\n",
    "      val leftNode = RBTree.getNodeAtIndex(rbTree.root, index - 1)\n",
    "      val leftWeight = keyMap(leftNode.value)\n",
    "      val rightNode = RBTree.getNodeAtIndex(rbTree.root, index)\n",
    "      val rightWeight = keyMap(rightNode.value)\n",
    "      insertInternal(value, (leftWeight + rightWeight) / 2)\n",
    "    }\n",
    "\n",
    "  }\n",
    "\n",
    "  def remove(value: E): Boolean = {\n",
    "    keyMap.remove(value) match {\n",
    "      case Some(w) =>\n",
    "        RBTree.delete(rbTree, w)\n",
    "        true\n",
    "      case None =>\n",
    "        false\n",
    "    }\n",
    "\n",
    "  }\n",
    "\n",
    "  def indexOf(value: E): Int =\n",
    "    keyMap.get(value) match {\n",
    "      case None    => -1\n",
    "      case Some(w) => RBTree.indexOfKey(w, rbTree.root)\n",
    "    }\n",
    "\n",
    "  def apply(index: Int): E = RBTree.getNodeAtIndex(rbTree.root, index).value\n",
    "\n",
    "  def size: Int = keyMap.size\n",
    "\n",
    "  def toList: List[E] = RBTree.valuesIterator(rbTree).toList\n",
    "\n",
    "}"
   ]
  },
  {
   "cell_type": "markdown",
   "id": "2a921ae9",
   "metadata": {},
   "source": [
    "## Part 1\n",
    "\n",
    "มาถึงโจทย์ซักที เอาจริงๆ ก็ไม่เหลือไรมากแล้ว นอกจากจุดที่ต้องระวัง คือถ้าเรามีทั้งหมด n elements การขยับ item ซักอันไปทางขวา (หรือซ้าย) \n",
    "จนมันกลับมาอยู่ที่ตำแหน่งเดิม นั้นใช้ n-1 moves ไม่ใช่ n moves ดังนั้นเราต้องเอาจำนวนครั้งที่ต้องขยับมา mod กับ n-1 ไม่ใช่ n\n",
    "\n",
    "แต่ตอนจบที่โจทย์ถามค่าของตำแหน่งที่ 1000, 2000 และ 3000 ตรงนี้ต้อง mod ด้วย n ตามปกติ"
   ]
  },
  {
   "cell_type": "code",
   "execution_count": 4,
   "id": "573a7079",
   "metadata": {},
   "outputs": [
    {
     "name": "stdout",
     "output_type": "stream",
     "text": [
      "7228\n"
     ]
    }
   ],
   "source": [
    "def mix(\n",
    "        input: Seq[(Long, Int)],\n",
    "        rounds: Int\n",
    "    ): BSTIndexedSet[(Long, Int)] = {\n",
    "\n",
    "      val sortedSet = new BSTIndexedSet[(Long, Int)]()\n",
    "      input.foreach(sortedSet.append)\n",
    "      val m = input.length - 1\n",
    "      (1 to rounds).foreach { _ =>\n",
    "        input.foreach { e =>\n",
    "          val currentIndex = sortedSet.indexOf(e)\n",
    "          val move = ((e._1 + m) % m + m).toInt % m\n",
    "          val nextIndex = (currentIndex + move) % m\n",
    "          sortedSet.remove(e)\n",
    "          sortedSet.insert(e, nextIndex)\n",
    "        }\n",
    "      }\n",
    "      sortedSet\n",
    "    }\n",
    "\n",
    "val sortedSet = mix(input, 1)\n",
    "val zero = sortedSet.indexOf(input.find(_._1 == 0).get)\n",
    "val res = Seq(1000, 2000, 3000).map{i => sortedSet((zero + i) % input.length)._1}.sum\n",
    "println(res)"
   ]
  },
  {
   "cell_type": "markdown",
   "id": "6dfca3d7",
   "metadata": {},
   "source": [
    "## Part 2\n",
    "\n",
    "เหลือแค่ทำเหมือนเดิมวน 10 รอบ ง่ายเลย ของยากเราทำไปหมดแล้วแต่แรก"
   ]
  },
  {
   "cell_type": "code",
   "execution_count": 5,
   "id": "0356bb63",
   "metadata": {},
   "outputs": [
    {
     "name": "stdout",
     "output_type": "stream",
     "text": [
      "4526232706281\n"
     ]
    }
   ],
   "source": [
    "val keyedInput = input.map{ case (x, y) => (x * 811589153L, y)}\n",
    "\n",
    "val sortedSet = mix(keyedInput, 10)\n",
    "val zero = sortedSet.indexOf(keyedInput.find(_._1 == 0).get)\n",
    "val res = Seq(1000, 2000, 3000).map{i => sortedSet((zero + i) % keyedInput.length)._1}.sum\n",
    "println(res)"
   ]
  }
 ],
 "metadata": {
  "kernelspec": {
   "display_name": "Scala 2.13.5",
   "language": "scala",
   "name": "scala213"
  },
  "language_info": {
   "codemirror_mode": "text/x-scala",
   "file_extension": ".sc",
   "mimetype": "text/x-scala",
   "name": "scala",
   "nbconvert_exporter": "script",
   "version": "2.13.5"
  }
 },
 "nbformat": 4,
 "nbformat_minor": 5
}
