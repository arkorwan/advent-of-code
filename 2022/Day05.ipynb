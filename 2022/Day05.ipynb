{
 "cells": [
  {
   "cell_type": "markdown",
   "id": "3a0007ed",
   "metadata": {},
   "source": [
    "# Day 5\n",
    "\n",
    "link: https://adventofcode.com/2022/day/5"
   ]
  },
  {
   "cell_type": "markdown",
   "id": "1ca9cc33",
   "metadata": {},
   "source": [
    "ข้อนี้ tedious หน่อยตอน parse input เพราะต้องแบ่งเป็นสองส่วน ส่วน stack เริ่มต้น กับส่วนคำสั่ง"
   ]
  },
  {
   "cell_type": "code",
   "execution_count": 1,
   "id": "cb51d83b",
   "metadata": {},
   "outputs": [],
   "source": [
    "input = IO.foreach('data/05.txt').to_a\n",
    "\n",
    "label_line = input.index{|line| line.start_with?(' 1')}\n",
    "stack_count = input[label_line].size / 4\n",
    "\n",
    "stacks = stack_count.times.map{[]}\n",
    "(label_line - 1).downto(0){|i|\n",
    "  stack_count.times{|j|\n",
    "    c = input[i][j * 4 + 1]\n",
    "    stacks[j] << c if c != ' '\n",
    "  }\n",
    "}\n",
    "\n",
    "commands = input[label_line + 2 .. -1].map{|line|\n",
    "  cmd = line.split\n",
    "  q = cmd[1].to_i\n",
    "  s1 = cmd[3].to_i - 1\n",
    "  s2 = cmd[5].to_i - 1\n",
    "  [q, s1, s2]\n",
    "}\n",
    "nil"
   ]
  },
  {
   "cell_type": "markdown",
   "id": "a9139e2a",
   "metadata": {},
   "source": [
    "## Part 1\n",
    "\n",
    "ตัวโจทย์ข้อนี้ก็ยังตรงไปตรงมา แค่ simulate ตามคำสั่งที่ได้รับ pop กล่องออกจาก stack ต้นทางแล้วใส่ stack ปลายทาง\n",
    "\n",
    "part แรกนี้มี trick นิดหน่อยเพื่อให้ไม่ต้อง loop ตามจำนวนกล่องในแต่ละคำสั่ง คือแทนที่จะย้ายกล่องทีละกล่อง เราย้ายทุกกล่องในคำสั่งเดียวกันพร้อมกันเลย แค่ต้อง reverse กล่องที่ pop ออกมาก่อนจะ push กลับลงไป"
   ]
  },
  {
   "cell_type": "code",
   "execution_count": 2,
   "id": "09472b1e",
   "metadata": {},
   "outputs": [
    {
     "name": "stdout",
     "output_type": "stream",
     "text": [
      "TGWSMRBPN\n"
     ]
    }
   ],
   "source": [
    "stacks1 = stacks.map{|s| s.clone}\n",
    "commands.each{|q, s1, s2|\n",
    "  stacks1[s2].push(*stacks1[s1].pop(q).reverse)\n",
    "}\n",
    "\n",
    "puts stacks1.map{|s| s[-1]}.join"
   ]
  },
  {
   "cell_type": "markdown",
   "id": "c6273c13",
   "metadata": {},
   "source": [
    "## Part 2\n",
    "\n",
    "ครึ่งหลังทำเหมือนเดิมเลย แค่เอา reverse ออกก็ใช้ได้"
   ]
  },
  {
   "cell_type": "code",
   "execution_count": 3,
   "id": "31bfc7fb",
   "metadata": {},
   "outputs": [
    {
     "name": "stdout",
     "output_type": "stream",
     "text": [
      "TZLTLWRNF\n"
     ]
    }
   ],
   "source": [
    "stacks2 = stacks.map{|s| s.clone}\n",
    "commands.each{|q, s1, s2|\n",
    "  stacks2[s2].push(*stacks2[s1].pop(q))\n",
    "}\n",
    "\n",
    "puts stacks2.map{|s| s[-1]}.join"
   ]
  }
 ],
 "metadata": {
  "kernelspec": {
   "display_name": "Ruby 3.1.3",
   "language": "ruby",
   "name": "ruby"
  },
  "language_info": {
   "file_extension": ".rb",
   "mimetype": "application/x-ruby",
   "name": "ruby",
   "version": "3.1.3"
  }
 },
 "nbformat": 4,
 "nbformat_minor": 5
}
