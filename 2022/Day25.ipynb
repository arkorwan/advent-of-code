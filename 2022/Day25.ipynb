{
 "cells": [
  {
   "cell_type": "markdown",
   "id": "88a9f435",
   "metadata": {},
   "source": [
    "# Day 25\n",
    "\n",
    "link: https://adventofcode.com/2022/day/25"
   ]
  },
  {
   "cell_type": "markdown",
   "id": "3e0798c6",
   "metadata": {},
   "source": [
    "ข้อนี้คือการแปลงเลขฐาน ฐานที่เราใช้นี่คิดว่าน่าจะเรียกว่า balanced quinary (เทียบกับ [Balanced ternary](https://en.wikipedia.org/wiki/Balanced_ternary) ที่ใช้ -1, 0, 1)\n",
    "\n",
    "เราลองสำรวจดู increment operation ก็พบว่ามันเหมือนกับเลขฐานปกติเลย คือเราเริ่ม +1 ไปที่หลักขวาสุด\n",
    "ถ้ามันเกิน 2 ก็วนไปที่ -2 แล้ว carry ไปทางซ้าย ถ้าต้องขึ้นหลักใหม่ก็เริ่มจาก 1\n",
    "\n",
    "ดังนั้นเราคิดว่ามันน่าจะมีวิธี transform จากฐาน 5 ปกติ ไปเป็นฐาน 5 แบบ balanced นี้ได้\n",
    "\n",
    "## String to Int\n",
    "\n",
    "เราเริ่มจาก map character จาก `=-012` ไปเป็น `01234` แบบตรงๆ เลย\n",
    "จากนั้นใช้ built-in method เพื่อแปลงผลลัพธ์ที่ได้เป็นเลขฐาน 5\n",
    "\n",
    "ถ้าเราเทียบ process การ increment ของ balanced quinary ด้านบน แต่ดูภายใต้ digit set `01234` นี้\n",
    "ก็จะเห็นว่า มันเทียบเท่ากับการขึ้นหลักใหม่ด้วยเลข 3 แทนที่จะเป็นเลข 1 เหมือน quinary ปกติ\n",
    "เท่ากับว่า เลขฐาน 5 ที่เราได้มานั้น เรานับเกินมา 2 ในแต่ละหลัก\n",
    "\n",
    "ดังนั้นเราก็แค่ลบสิ่งที่นับเกินมานี้ออก ซึ่งเราคำนวณได้ว่า ถ้ามี d หลัก จะต้องลบออก $2\\sum_{i=0}^{d-1}5^i = \\frac{5^{d}-1}{2}$\n",
    "\n",
    "\n",
    "## Int to String\n",
    "\n",
    "การแปลงกลับก็ทำ process ตรงกันข้าม ก็คือบวก 2 เข้าไปในแต่ละหลัก\n",
    "\n",
    "ปัญหาเล็กๆ ก็คือการหาจำนวนหลัก เราใช้วิธีแปลงเลขที่ได้เป็นฐาน 5 แบบตรงๆ ก่อนเพื่อดูจำนวนหลัก\n",
    "แต่เลขนี้อาจจะไม่ตรงในกรณีที่การบวก 2 ในแต่ละหลักทำให้เกิด carry เพิ่มหลักซ้ายสุดขึ้นมา\n",
    "ถ้าเข้า case นี้เรารู้ว่าเลขซ้ายสุดจะเป็นเลข 1 (และถ้าไม่ carry มันก็จะต้องเป็นเลข 3 หรือ 4 เท่านั้น)\n",
    "เพราะฉะนั้นเราก็แค่ check ว่า ถ้าเป็นเลข 1 ก็เปลี่ยนเป็นเลข 3 ซะ\n",
    "\n",
    "จากนั้นก็ map character กลับจาก `01234` เป็น `=-012`"
   ]
  },
  {
   "cell_type": "code",
   "execution_count": 1,
   "id": "e947f728",
   "metadata": {},
   "outputs": [],
   "source": [
    "class BalancedQuinary\n",
    "\n",
    "  @@h1 = {'=' => '0', '-' => '1', '0' => '2', '1' => '3', '2' => '4'}\n",
    "  @@h2 = {'0' => '=', '1' => '-', '2' => '0', '3' => '1', '4' => '2'}\n",
    "\n",
    "  def self.rep2(n) = (5**n-1)/2\n",
    "\n",
    "  def self.to_i(s)\n",
    "    s.chars.map{|c| @@h1[c]}.join.to_i(5) - rep2(s.size)\n",
    "  end\n",
    "\n",
    "  def self.to_s(i)\n",
    "    l = i.to_s(5).size\n",
    "    s = (i + rep2(l)).to_s(5)\n",
    "    s[0] = '3' if s[0] == '1'\n",
    "    s.chars.map{|c| @@h2[c]}.join\n",
    "  end\n",
    "\n",
    "end\n",
    "nil"
   ]
  },
  {
   "cell_type": "markdown",
   "id": "58ae7f3a",
   "metadata": {},
   "source": [
    "## Part 1\n",
    "\n",
    "ที่เหลือก็แค่ อ่าน input แปลงเป็น int หาผลรวม แล้วแปลงกลับ"
   ]
  },
  {
   "cell_type": "code",
   "execution_count": 2,
   "id": "8bb1a8c8",
   "metadata": {},
   "outputs": [
    {
     "name": "stdout",
     "output_type": "stream",
     "text": [
      "20===-20-020=0001-02\n"
     ]
    }
   ],
   "source": [
    "s = IO.foreach('data/25.txt').to_a.map(&:strip).map{|line| BalancedQuinary.to_i(line)}.sum\n",
    "puts BalancedQuinary.to_s(s)"
   ]
  },
  {
   "cell_type": "markdown",
   "id": "57217128",
   "metadata": {},
   "source": [
    "## Victory Lap\n",
    "\n",
    "ตามธรรมเนี่ยมของ advent of code โจทย์ข้อสุดท้ายมี part เดียว เพราะงั้นเราเสร็จงานแล้ว!\n",
    "\n",
    "![victory](data/victory.png)"
   ]
  }
 ],
 "metadata": {
  "kernelspec": {
   "display_name": "Ruby 3.1.3",
   "language": "ruby",
   "name": "ruby"
  },
  "language_info": {
   "file_extension": ".rb",
   "mimetype": "application/x-ruby",
   "name": "ruby",
   "version": "3.1.3"
  }
 },
 "nbformat": 4,
 "nbformat_minor": 5
}
