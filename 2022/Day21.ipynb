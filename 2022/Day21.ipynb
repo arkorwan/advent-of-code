{
 "cells": [
  {
   "cell_type": "markdown",
   "id": "836693f2",
   "metadata": {},
   "source": [
    "# Day 21\n",
    "\n",
    "link: https://adventofcode.com/2022/day/21"
   ]
  },
  {
   "cell_type": "markdown",
   "id": "1a4da939",
   "metadata": {},
   "source": [
    "สำหรับข้อนี้ ลิงแต่ละตัวก็คือ expression ซึ่งอาจจะเป็น constant หรือเป็น binary operation จาก expression อื่น\n",
    "อาจจะเขียนเป็น grammar ได้เลยว่า `expr := const | expr op expr`\n",
    "\n",
    "เราเก็บ input ลง Hash โดยใช้ชื่อลิงเป็น key โดย parse constant term เป็นตัวเลข และเก็บ operation เป็น symbol"
   ]
  },
  {
   "cell_type": "code",
   "execution_count": 1,
   "id": "d75be34a",
   "metadata": {},
   "outputs": [],
   "source": [
    "input = IO.foreach('in21.txt').to_a.map(&:strip)\n",
    "\n",
    "monkeys = {}\n",
    "\n",
    "input.each{|line|\n",
    "  key, val = line.split(': ')\n",
    "  args = val.split(' ')\n",
    "  if args.size == 1\n",
    "    args[0] = args[0].to_i\n",
    "  else\n",
    "    args[1] = args[1].to_sym\n",
    "  end\n",
    "  monkeys[key] = args\n",
    "}\n",
    "nil"
   ]
  },
  {
   "cell_type": "markdown",
   "id": "8e00ca3b",
   "metadata": {},
   "source": [
    "## Part 1\n",
    "\n",
    "part แรกเราก็แค่ evaluate expression แบบ recursive โดยเริ่มจาก \"root\"\n",
    "\n",
    "เราอาจจะเก็บ result ของแต่ละ sub-expression ลง cache ไว้ด้วยก็ได้ เผื่อมีการใช้ซ้ำ แต่พอเช็คดูแล้วเราไม่พบการใช้ซ้ำเลย\n",
    "ก็คือ evaluation tree มันเป็น tree จริงๆ เพราะฉะนั้นไม่จำเป็นต้อง cache"
   ]
  },
  {
   "cell_type": "code",
   "execution_count": 2,
   "id": "a499ea69",
   "metadata": {},
   "outputs": [
    {
     "name": "stdout",
     "output_type": "stream",
     "text": [
      "158661812617812\n"
     ]
    }
   ],
   "source": [
    "def evaluate(monkeys, monkey)\n",
    "  v = monkeys[monkey]\n",
    "  if v.size == 1\n",
    "    v[0]\n",
    "  else\n",
    "    l = evaluate(monkeys, v[0])\n",
    "    r = evaluate(monkeys, v[2])\n",
    "    l.send(v[1], r)\n",
    "  end\n",
    "end\n",
    "\n",
    "puts evaluate(monkeys, 'root')"
   ]
  },
  {
   "cell_type": "markdown",
   "id": "c5848957",
   "metadata": {},
   "source": [
    "## Part 2\n",
    "\n",
    "part หลัง เรามอง \"humn\" เป็นตัวแปร x เมื่อเอาไปบวก ลบ หรือคูณกับ constant เราก็จะได้ expression เป็น polynomial ดีกรี 1: Ax + B โดย A, B เป็น rational number\n",
    "\n",
    "เราเช็คมาแล้วว่าไม่มีการใช้ expression ซ้ำ ดังนั้น degree มันจะไม่โตไปกว่า 1 แน่นอน\n",
    "\n",
    "การหารซับซ้อนกว่า ถ้าเราเอา polynomial / constant เราก็ยังได้ degree-1 polynomial เหมือนเดิม\n",
    "แต่ถ้าเป็น constant / polynomial มันจะกลายเป็น degree-1 rational function แทน: $\\frac{Ax + B}{Cx+D}$\n",
    "\n",
    "เพื่อความง่ายเรา assume ว่าจะไม่มีการหารด้วย polynomial โชคดีที่เป็นจริงตามนั้น\n",
    "\n",
    "โจทย์บอกให้เราเปลี่ยน root ให้เป็น x = y ซึ่งเทียบเท่ากับ x - y = 0 พอเรา evaluate expression ทั้งหมด ก็จะได้ polynomial Ax+B = 0\n",
    "ดังนั้น x = -B/A"
   ]
  },
  {
   "cell_type": "code",
   "execution_count": 3,
   "id": "9c016ef7",
   "metadata": {},
   "outputs": [
    {
     "name": "stdout",
     "output_type": "stream",
     "text": [
      "3352886133831\n"
     ]
    }
   ],
   "source": [
    "def evaluate_poly1(monkeys, monkey)\n",
    "  v = monkeys[monkey]\n",
    "  if monkey == 'humn'\n",
    "    [Rational(1), Rational(0)]\n",
    "  elsif v.size == 1\n",
    "    [Rational(0), Rational(v[0])]\n",
    "  else\n",
    "    l1, l0 = evaluate_poly1(monkeys, v[0])\n",
    "    r1, r0 = evaluate_poly1(monkeys, v[2])\n",
    "    \n",
    "    if v[1] == :- || monkey == 'root'\n",
    "      [l1 - r1, l0 - r0]\n",
    "    elsif v[1] == :+\n",
    "      [l1 + r1, l0 + r0]\n",
    "    elsif v[1] == :*\n",
    "      [l1 * r0 + r1 * l0, r0 * l0]\n",
    "    else\n",
    "      raise 'divided by non-constant' if r1 != 0\n",
    "      [l1 / r0, l0 / r0]\n",
    "    end\n",
    "  end\n",
    "end\n",
    "\n",
    "a, b = evaluate_poly1(monkeys, 'root')\n",
    "puts (-b / a).to_i"
   ]
  }
 ],
 "metadata": {
  "kernelspec": {
   "display_name": "Ruby 3.1.3",
   "language": "ruby",
   "name": "ruby"
  },
  "language_info": {
   "file_extension": ".rb",
   "mimetype": "application/x-ruby",
   "name": "ruby",
   "version": "3.1.3"
  }
 },
 "nbformat": 4,
 "nbformat_minor": 5
}
