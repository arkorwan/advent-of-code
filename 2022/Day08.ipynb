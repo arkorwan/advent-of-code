{
 "cells": [
  {
   "cell_type": "markdown",
   "id": "ab9f4d6f",
   "metadata": {},
   "source": [
    "# Day 8\n",
    "\n",
    "link: https://adventofcode.com/2022/day/8"
   ]
  },
  {
   "cell_type": "markdown",
   "id": "782e6fc8",
   "metadata": {},
   "source": [
    "ข้อนี่เริ่มน่าสนใจขึ้น เป็นข้อแรกที่เราเริ่มจะต้อง concern เกี่ยวกับ performance\n",
    "\n",
    "ก่อนอื่นก็โหลด input เก็บไว้เป็นตัวเลขความสูงใน array 2 มิติ"
   ]
  },
  {
   "cell_type": "code",
   "execution_count": 1,
   "id": "2592b4f3",
   "metadata": {},
   "outputs": [
    {
     "data": {
      "text/plain": [
       "99"
      ]
     },
     "execution_count": 1,
     "metadata": {},
     "output_type": "execute_result"
    }
   ],
   "source": [
    "input = IO.foreach('in08.txt').to_a.map(&:strip)\n",
    "\n",
    "trees = input.map{|line| line.chars.map(&:to_i) }\n",
    "\n",
    "rows = trees.size\n",
    "cols = trees[0].size"
   ]
  },
  {
   "cell_type": "markdown",
   "id": "5f09848a",
   "metadata": {},
   "source": [
    "## Part 1\n",
    "\n",
    "โจทย์แรกให้เรานับจำนวนต้นไม้ที่มองเห็นได้จากภายนอก ตรงนี้ยังไม่ซับซ้อน เราก็ process ทีละทิศทาง จากทางซ้าย ขวา บน ล่าง\n",
    "ไล่ดูต้นไม้ใน row/column นั้นๆ เก็บค่าต้นไม้ที่สูงที่สุดที่เคยเจอเอาไว้ ทุกครั้งที่เจอต้นที่สูงกว่าที่เคยเจอ ก็จะสรุปได้ว่าต้นนี้ visible\n",
    "เราก็ mark ลง boolean array เก็บเอาไว้ แล้วไปนับตอนจบเมื่อวนครบทุกทิศทางแล้ว\n",
    "\n",
    "ความท้าทายเล็กๆ ของโจทย์นี้คือจะเขียน logic ส่วนที่วนลูปเช็คความสูงแล้ว mark visibility ยังไงให้มัน reuse กันได้จากทั้ง 4 ทิศทาง\n",
    "ซึ่งเราก็เขียนให้ `mark_visible` รับ coordinate ของต้นไม้ที่ต้องการเช็คเข้ามาทั้งแนว ก็คือทำให้ code นี้ไม่ขึ้นกับตำแหน่งทิศทางเลย\n",
    "เราอยากจะเช็คแนว diagonal หรือจะสุ่มต้นไม้มาเช็คก็ยังได้"
   ]
  },
  {
   "cell_type": "code",
   "execution_count": 2,
   "id": "74e11754",
   "metadata": {},
   "outputs": [
    {
     "name": "stdout",
     "output_type": "stream",
     "text": [
      "1543\n"
     ]
    }
   ],
   "source": [
    "visible = rows.times.map{[false] * cols}\n",
    "\n",
    "def mark_visible(trees, visible, cells)\n",
    "  tallest = -1\n",
    "  cells.each{|i, j|\n",
    "    if trees[i][j] > tallest\n",
    "      visible[i][j] = true\n",
    "      tallest = trees[i][j]\n",
    "    end\n",
    "  }\n",
    "end\n",
    "\n",
    "rows.times{|i|\n",
    "  cells = 0.upto(cols-1).map{|j| [i, j]}\n",
    "  mark_visible(trees, visible, cells)\n",
    "  mark_visible(trees, visible, cells.reverse)\n",
    "}\n",
    "\n",
    "cols.times{|j|\n",
    "  cells = 0.upto(rows-1).map{|i| [i, j]}\n",
    "  mark_visible(trees, visible, cells)\n",
    "  mark_visible(trees, visible, cells.reverse)  \n",
    "}\n",
    "\n",
    "puts visible.map{|row| row.count{|x| x}}.sum"
   ]
  },
  {
   "cell_type": "markdown",
   "id": "ed940b7a",
   "metadata": {},
   "source": [
    "## Part 2\n",
    " \n",
    "โจทย์หลัง ให้เราหา maximum scenic score ซึ่งคำนวณจากผลคูณของต้นไม้ที่มองเห็นจากแต่ละทิศทาง\n",
    "\n",
    "ถ้าคิดตรงๆ ใน grid ขนาด NxN สำหรับต้นไม้แต่ละต้นเราต้องเช็คทางซ้าย-ขวา O(N) ครั้ง เช็คทางบน-ล่างอีก O(N) ครั้ง\n",
    "แล้วมันมีต้นไม้ทั้งหมด N^2 ต้น ดังนั้น complexity ของวิธีคิดตรงๆ นี้คือ O(N^3) ซึ่งสำหรับ N = 99 นี่มันก็ยังผ่านได้สบายๆ แหละ แต่เราทำได้ดีกว่านั้น\n",
    "\n",
    "เราจะเก็บ score เป็น array คล้ายๆ กับ visibility array ใน Part 1 แต่คราวนี้เราให้ค่าเริ่มต้นเป็น 1 \n",
    "จากนั้นจะเช็คทีละทิศทาง เอาจำนวนต้นไม้ที่มองเห็นได้คูณเข้าไปใน score array\n",
    "\n",
    "วิธีหาจำนวนต้นไม้ที่มองเห็นได้ของแต่ละทิศทาง สมมติเป็นการมองไปทางซ้าย\n",
    "เราให้ v_left(x, y, h) คือจำนวนต้นไม้ที่มองเห็นจากตำแหน่ง (x, y) ที่ความสูง h (เรา ignore ความสูงที่แท้จริงของต้นไม้ในตำแหน่งนั้น)\n",
    "สังเกตว่า v_left(x, y, h) นั้นจะสัมพันธ์กับ v_left(x-1, y, h)\n",
    "- ถ้าต้นไม้ (x, y) สูงกว่าหรือเท่ากับ h ก็จะเห็นได้แค่ (x-1, y) เพียงต้นเดียว ดังนั้น v_left(x, y, h) = 1\n",
    "- ถ้าต้นไม่ (x, y) เตี้ยกว่า h เราก็จะเห็น (x-1, y) และเห็นต้นไม้ทุกต้นที่เห็นได้จาก (x-1, y, h) ดังนั้น v_left(x, y, h) = v_left(x-1, y, h) + 1\n",
    "\n",
    "เราสามารถ loop จากซ้ายไปขวา คำนวณ v_left ในทุกๆ ความสูง h เก็บไว้ได้ ในแต่ละตำแหน่งจะมีค่าที่เอามาใช้คำนวณ scenic score จริงๆ \n",
    "ค่าเดียว ก็คือเมื่อ h เท่ากับความสูงของต้นไม้ในตำแหน่งนั้น แต่เราคำนวณทุกค่าเพื่อเอาไปใช้ในตำแหน่งถัดๆ ไปได้\n",
    "\n",
    "วิธีนี้มี complexity เป็น O(h.N^2) โดยที่ h คือจำนวนความสูงที่เป็นไปได้"
   ]
  },
  {
   "cell_type": "code",
   "execution_count": 3,
   "id": "fadf40a2",
   "metadata": {},
   "outputs": [
    {
     "name": "stdout",
     "output_type": "stream",
     "text": [
      "595080\n"
     ]
    }
   ],
   "source": [
    "# All the border the score is actually 0, we'll just ignore them.\n",
    "score = rows.times.map{[1] * cols}\n",
    "\n",
    "def mult_score(trees, score, cells)\n",
    "  visible = [1,1,1,1,1,1,1,1,1,1]\n",
    "  cells.each{|i, j|\n",
    "    score[i][j] *= visible[trees[i][j]]\n",
    "    0.upto(9){|k|\n",
    "      visible[k] = k > trees[i][j] ? visible[k] + 1 : 1\n",
    "    }\n",
    "  }\n",
    "end\n",
    "\n",
    "1.upto(rows-2){|i|\n",
    "  cells = 1.upto(cols-2).map{|j| [i, j]}\n",
    "  mult_score(trees, score, cells)\n",
    "  mult_score(trees, score, cells.reverse)\n",
    "}\n",
    "\n",
    "1.upto(cols-2){|j|\n",
    "  cells = 1.upto(rows-2).map{|i| [i, j]}\n",
    "  mult_score(trees, score, cells)\n",
    "  mult_score(trees, score, cells.reverse)  \n",
    "}\n",
    "\n",
    "puts score.map{|row| row.max}.max"
   ]
  }
 ],
 "metadata": {
  "kernelspec": {
   "display_name": "Ruby 3.1.3",
   "language": "ruby",
   "name": "ruby"
  },
  "language_info": {
   "file_extension": ".rb",
   "mimetype": "application/x-ruby",
   "name": "ruby",
   "version": "3.1.3"
  }
 },
 "nbformat": 4,
 "nbformat_minor": 5
}
