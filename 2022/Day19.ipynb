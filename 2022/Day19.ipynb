{
 "cells": [
  {
   "cell_type": "markdown",
   "id": "de521866",
   "metadata": {},
   "source": [
    "# Day 19\n",
    "\n",
    "link: https://adventofcode.com/2022/day/19"
   ]
  },
  {
   "cell_type": "markdown",
   "id": "3df22d3b",
   "metadata": {},
   "source": [
    "ข้อนี้ทำเอามึนไปเหมือนกัน\n",
    "\n",
    "จากโจทย์เรามี resources อยู่ 4 ชนิด คือ ore, clay, obsidian และ geode แต่ละชนิดต้องใช้หุ่นยนต์เฉพาะของแต่ละชนิดในการ collect\n",
    "\n",
    "เราสังเกตจาก input ว่ามันมี pattern ของการประกอบหุ่นยนต์ที่ตายตัว เพราะฉะนั้นเรา parse แค่ตัวเลข (ไม่ต้อง parse text)\n",
    "แล้วจับใส่ array ซึ่งตัวเลขในตำแหน่ง (i, j) ก็คือจำนวน resources ชนิด j ที่ต้องใช้เพื่อสร้าง robot ชนิด i"
   ]
  },
  {
   "cell_type": "code",
   "execution_count": 1,
   "id": "8a541b52",
   "metadata": {},
   "outputs": [],
   "source": [
    "input = IO.foreach('in19.txt').to_a.map(&:strip)\n",
    "\n",
    "all_costs = input.map{|line|\n",
    "  args = line.split(' ')\n",
    "  [\n",
    "    [args[6].to_i, 0, 0], \n",
    "    [args[12].to_i, 0, 0],\n",
    "    [args[18].to_i, args[21].to_i, 0],\n",
    "    [args[27].to_i, 0, args[30].to_i]\n",
    "  ]\n",
    "}\n",
    "nil"
   ]
  },
  {
   "cell_type": "markdown",
   "id": "6e3691ff",
   "metadata": {},
   "source": [
    "เราใช้วิธี recursive backtracking ทีแรกลองคิดว่า ในทุกๆ time step เราจะมี 5 ทางเลือก คือเลือกประกอบหุ่นชนิดที่ 1, 2, 3, 4 หรือไม่ทำอะไร\n",
    "แน่นอนว่าจริงๆ มันไม่ได้ทำได้ทุกทางเลือก ขึ้นกับว่า resources มีเพียงพอมั้ย แต่เราก็รู้สึกว่า search tree มันกว้างเกินไปอยู่ดี\n",
    "\n",
    "ลองคิดต่อไปว่า สมมติใน time step = t เรามี resources พอที่จะสร้างหุ่นชนิดที่ 1 แต่เราเลือก \"ไม่ทำอะไร\" ใน step นี้ \n",
    "จากนั้นใน step t+1 เราไปเลือกประกอบหุ่นชนิดที่ 1 จะเห็นว่าการเลือกแบบนี้ไม่ optimal แน่ๆ คือถ้าจะประกอบหุ่นชนิดที่ 1 อยู่แล้ว\n",
    "ก็ควรจะทำทันทีที่มี resources พอที่จะทำได้ เหตุผลของการ \"ไม่ทำอะไร\" มันจะฟังขึ้นก็ต่อเมื่อเป็นการรอเพื่อให้มี resources พอ\n",
    "สำหรับหุ่นชนิดที่ตั้งใจไว้\n",
    "\n",
    "ดังนั้นเราเปลี่ยนวิธีนิดหน่อย แทนที่จะมี 5 ทางเลือกในแต่ละ step เราจะเลือกกำหนดไปเลยว่า หุ่นตัวต่อไปจะเป็นชนิดไหน\n",
    "ซึ่งการตัดสินใจนี้จะเกิดขึ้นหลังจากสร้างหุ่นเสร็จเท่านั้น ไม่ใช่ในทุก time step ดังนั้นจำนวนครั้งที่ต้องแตก branch จะลดลงไปมาก\n",
    "\n",
    "ขุั้นตอนในแต่ละ step ก็จะเป็นประมาณนี้\n",
    "1. เช็คว่ามี resources พอสำหรับสร้างหุ่น ชนิดที่กำหนดไว้หรือไม่ ถ้าพอก็หัก resources ไว้\n",
    "2. เพิ่ม resources ตามจำนวนหุ่นที่มี\n",
    "3. ในกรณีที่ resources ไม่พอ ก็ไป step ถัดไปเลย แต่ถ้าพอ ก็เพิ่มจำนวนหุ่น และเลือกหุ่นตัวต่อไป\n",
    "\n",
    "ถึงตรงนี้เราลองดูแล้วก็ยังช้าเกินไปอยู่ดี ต้องหาทาง prune search tree ให้ได้อีก\n",
    "\n",
    "เราไปสังเกตดู pattern ของจำนวน resources ที่ใช้ แล้วก็พบว่า ถึงแม้ว่า ore จะต้องใช้เป็น resource ของหุ่นทุกชนิด แต่ก็ใช้ในจำนวนไม่มาก\n",
    "เทียบกับ clay และ obsidian ดังนั้นเรา assume ได้ว่าจำนวน ore robot ก็ไม่ควรจะต้องมีเยอะ\n",
    "ตรงนี้เรา trial and error ไปๆ มาๆ แล้วก็พบว่าเราสามารถจำกัดจำนวน ore robot ไว้ที่ไม่เกิน 3 ตัวได้\n",
    "\n",
    "อีกจุดนึงคือในจังหวะที่เลือกหุ่นที่จะสร้าง เราไปสร้าง priority ให้ geode กับ obsidian robots\n",
    "คือจะเช็คแบบ greedy ว่า ถ้ามี resources พอสำหรับสร้าง geode robot ก็จะ fix ไปเลยว่าให้สร้างตัวนี้\n",
    "ถ้าไม่พอ เราไปเช็คแบบเดียวกันกับ obsidian robot\n",
    "ถ้ายังไม่ได้อีกถึงค่อยแตก branch ตรงนี้ช่วยลด search space ได้เยอะมาก\n",
    "\n",
    "นอกจากนี้ยังมีการ bound search space คือตอนเริ่มแต่ละ time step เราเพิ่มการเช็คว่าใน best case scenario\n",
    "เรายังมีหวังที่จะ improve result ได้หรือไม่ วิธีการคือ เราจะ assume ว่าเราสามารถสร้าง geode robot\n",
    "ได้ในทุกๆ time step ที่เหลืออยู่ แล้วคำนวณดูว่าในกรณีนี้จะได้ geode เป็นจำนวนเท่าไหร่\n",
    "ถ้ามันไม่ดีกว่าค่าที่ดีที่สุดที่เราเคยทำได้ ก็ไม่จำเป็นต้องหาใน branch นี้ต่อ"
   ]
  },
  {
   "cell_type": "code",
   "execution_count": 2,
   "id": "b9b2dccd",
   "metadata": {},
   "outputs": [],
   "source": [
    "def can_build_with?(required, resources)\n",
    "  3.times.all?{|i| resources[i] >= required[i]}\n",
    "end\n",
    "\n",
    "def tr(n) = n*(n+1)/2\n",
    "\n",
    "def find_max_geodes(remain_steps, costs, resources, bots, next_target, best)\n",
    "  \n",
    "  return [resources[3], best].max if remain_steps == 0\n",
    "\n",
    "  # assume we can build bot[3] every time step\n",
    "  bound = resources[3] + bots[3] * remain_steps + tr(remain_steps - 1)\n",
    "  return best if bound <= best\n",
    "\n",
    "  req = costs[next_target]\n",
    "  can_build = can_build_with?(req, resources)\n",
    "\n",
    "  n_resources = 4.times.map{|i| resources[i] + bots[i] - (can_build && i < 3 ? req[i] : 0)}\n",
    "  \n",
    "  if can_build\n",
    "    n_bots = 4.times.map{|i| i == next_target ? bots[i] + 1 : bots[i]}\n",
    "    if can_build_with?(costs[3], n_resources)\n",
    "      find_max_geodes(remain_steps - 1, costs, n_resources, n_bots, 3, best)\n",
    "    elsif can_build_with?(costs[2], n_resources)\n",
    "      find_max_geodes(remain_steps - 1, costs, n_resources, n_bots, 2, best)\n",
    "    else\n",
    "      min_target = bots[0] > 2 ? 1 : 0\n",
    "\n",
    "      min_target.upto(3).each{|i|\n",
    "        res = find_max_geodes(remain_steps - 1, costs, n_resources, n_bots, i, best)\n",
    "        best = res if res > best\n",
    "      }\n",
    "      best\n",
    "    end\n",
    "  else\n",
    "    find_max_geodes(remain_steps - 1, costs, n_resources, bots, next_target, best)\n",
    "  end\n",
    "\n",
    "end\n",
    "\n",
    "nil"
   ]
  },
  {
   "cell_type": "markdown",
   "id": "ab68007a",
   "metadata": {},
   "source": [
    "## Part 1"
   ]
  },
  {
   "cell_type": "code",
   "execution_count": 3,
   "id": "73ef96e1",
   "metadata": {},
   "outputs": [
    {
     "name": "stdout",
     "output_type": "stream",
     "text": [
      "1766\n"
     ]
    }
   ],
   "source": [
    "puts all_costs.each_with_index.map{|cs, i|\n",
    "  v1 = find_max_geodes(24, cs, [0, 0, 0, 0], [1, 0, 0, 0], 0, 0)\n",
    "  v2 = find_max_geodes(24, cs, [0, 0, 0, 0], [1, 0, 0, 0], 1, v1)\n",
    "  v2 * (i + 1)\n",
    "}.sum"
   ]
  },
  {
   "cell_type": "markdown",
   "id": "b71f788f",
   "metadata": {},
   "source": [
    "## Part 2"
   ]
  },
  {
   "cell_type": "code",
   "execution_count": 4,
   "id": "36c6178c",
   "metadata": {},
   "outputs": [
    {
     "name": "stdout",
     "output_type": "stream",
     "text": [
      "30780\n"
     ]
    }
   ],
   "source": [
    "puts all_costs[0...3].map{|cs|\n",
    "  v1 = find_max_geodes(32, cs, [0, 0, 0, 0], [1, 0, 0, 0], 0, 0)\n",
    "  v2 = find_max_geodes(32, cs, [0, 0, 0, 0], [1, 0, 0, 0], 1, v1)\n",
    "  v2\n",
    "}.reduce(:*)"
   ]
  }
 ],
 "metadata": {
  "kernelspec": {
   "display_name": "Ruby 3.1.3",
   "language": "ruby",
   "name": "ruby"
  },
  "language_info": {
   "file_extension": ".rb",
   "mimetype": "application/x-ruby",
   "name": "ruby",
   "version": "3.1.3"
  }
 },
 "nbformat": 4,
 "nbformat_minor": 5
}
